{
 "cells": [
  {
   "cell_type": "code",
   "execution_count": 1,
   "id": "b27384e7-91d1-4bd3-a587-15913c4b4bf5",
   "metadata": {},
   "outputs": [],
   "source": [
    "import numpy as np\n",
    "import pandas as pd\n",
    "import statsmodels.api as sm\n",
    "import matplotlib.pyplot as plt\n",
    "import seaborn as sns\n",
    "from imblearn.over_sampling import SMOTE \n",
    "from sklearn.metrics import confusion_matrix, accuracy_score, classification_report, ConfusionMatrixDisplay, precision_score, recall_score\n",
    "from tqdm import tqdm\n",
    "\n"
   ]
  },
  {
   "cell_type": "code",
   "execution_count": null,
   "id": "5839a468",
   "metadata": {},
   "outputs": [],
   "source": []
  },
  {
   "cell_type": "code",
   "execution_count": null,
   "id": "03cbed37",
   "metadata": {},
   "outputs": [],
   "source": []
  },
  {
   "cell_type": "code",
   "execution_count": 2,
   "id": "b9f87073",
   "metadata": {},
   "outputs": [
    {
     "name": "stdout",
     "output_type": "stream",
     "text": [
      "Requirement already satisfied: imbalanced-learn in /Users/sriramsuresh/anaconda3/lib/python3.10/site-packages (0.10.1)\n",
      "Requirement already satisfied: joblib>=1.1.1 in /Users/sriramsuresh/anaconda3/lib/python3.10/site-packages (from imbalanced-learn) (1.1.1)\n",
      "Requirement already satisfied: threadpoolctl>=2.0.0 in /Users/sriramsuresh/anaconda3/lib/python3.10/site-packages (from imbalanced-learn) (2.2.0)\n",
      "Requirement already satisfied: scipy>=1.3.2 in /Users/sriramsuresh/anaconda3/lib/python3.10/site-packages (from imbalanced-learn) (1.10.0)\n",
      "Requirement already satisfied: scikit-learn>=1.0.2 in /Users/sriramsuresh/anaconda3/lib/python3.10/site-packages (from imbalanced-learn) (1.2.1)\n",
      "Requirement already satisfied: numpy>=1.17.3 in /Users/sriramsuresh/anaconda3/lib/python3.10/site-packages (from imbalanced-learn) (1.23.5)\n",
      "Note: you may need to restart the kernel to use updated packages.\n"
     ]
    }
   ],
   "source": [
    "pip install imbalanced-learn"
   ]
  },
  {
   "cell_type": "code",
   "execution_count": 3,
   "id": "bdd08005-fd00-47d3-915e-04d80e4ae863",
   "metadata": {},
   "outputs": [],
   "source": [
    "# Load dataset from provided file\n",
    "complaints = pd.read_csv('/Users/sriramsuresh/Downloads/complaints_25Nov21.csv')"
   ]
  },
  {
   "cell_type": "code",
   "execution_count": 4,
   "id": "cc25f616",
   "metadata": {},
   "outputs": [
    {
     "data": {
      "text/html": [
       "<div>\n",
       "<style scoped>\n",
       "    .dataframe tbody tr th:only-of-type {\n",
       "        vertical-align: middle;\n",
       "    }\n",
       "\n",
       "    .dataframe tbody tr th {\n",
       "        vertical-align: top;\n",
       "    }\n",
       "\n",
       "    .dataframe thead th {\n",
       "        text-align: right;\n",
       "    }\n",
       "</style>\n",
       "<table border=\"1\" class=\"dataframe\">\n",
       "  <thead>\n",
       "    <tr style=\"text-align: right;\">\n",
       "      <th></th>\n",
       "      <th>Date received</th>\n",
       "      <th>Product</th>\n",
       "      <th>Sub-product</th>\n",
       "      <th>Issue</th>\n",
       "      <th>Sub-issue</th>\n",
       "      <th>Consumer complaint narrative</th>\n",
       "      <th>Company public response</th>\n",
       "      <th>Company</th>\n",
       "      <th>State</th>\n",
       "      <th>ZIP code</th>\n",
       "      <th>Tags</th>\n",
       "      <th>Consumer consent provided?</th>\n",
       "      <th>Submitted via</th>\n",
       "      <th>Date sent to company</th>\n",
       "      <th>Company response to consumer</th>\n",
       "      <th>Timely response?</th>\n",
       "      <th>Consumer disputed?</th>\n",
       "      <th>Complaint ID</th>\n",
       "    </tr>\n",
       "  </thead>\n",
       "  <tbody>\n",
       "    <tr>\n",
       "      <th>0</th>\n",
       "      <td>2016-10-26</td>\n",
       "      <td>Money transfers</td>\n",
       "      <td>International money transfer</td>\n",
       "      <td>Other transaction issues</td>\n",
       "      <td>NaN</td>\n",
       "      <td>To whom it concerns, I would like to file a fo...</td>\n",
       "      <td>Company has responded to the consumer and the ...</td>\n",
       "      <td>CITIBANK, N.A.</td>\n",
       "      <td>NaN</td>\n",
       "      <td>NaN</td>\n",
       "      <td>NaN</td>\n",
       "      <td>Consent provided</td>\n",
       "      <td>Web</td>\n",
       "      <td>2016-10-29</td>\n",
       "      <td>Closed with explanation</td>\n",
       "      <td>Yes</td>\n",
       "      <td>No</td>\n",
       "      <td>2180490</td>\n",
       "    </tr>\n",
       "    <tr>\n",
       "      <th>1</th>\n",
       "      <td>2015-03-27</td>\n",
       "      <td>Bank account or service</td>\n",
       "      <td>Other bank product/service</td>\n",
       "      <td>Account opening, closing, or management</td>\n",
       "      <td>NaN</td>\n",
       "      <td>My name is XXXX XXXX XXXX and huband name is X...</td>\n",
       "      <td>Company chooses not to provide a public response</td>\n",
       "      <td>CITIBANK, N.A.</td>\n",
       "      <td>PA</td>\n",
       "      <td>151XX</td>\n",
       "      <td>Older American</td>\n",
       "      <td>Consent provided</td>\n",
       "      <td>Web</td>\n",
       "      <td>2015-03-27</td>\n",
       "      <td>Closed with explanation</td>\n",
       "      <td>Yes</td>\n",
       "      <td>No</td>\n",
       "      <td>1305453</td>\n",
       "    </tr>\n",
       "    <tr>\n",
       "      <th>2</th>\n",
       "      <td>2015-04-20</td>\n",
       "      <td>Bank account or service</td>\n",
       "      <td>Other bank product/service</td>\n",
       "      <td>Making/receiving payments, sending money</td>\n",
       "      <td>NaN</td>\n",
       "      <td>XXXX 2015 : I called to make a payment on XXXX...</td>\n",
       "      <td>Company chooses not to provide a public response</td>\n",
       "      <td>U.S. BANCORP</td>\n",
       "      <td>PA</td>\n",
       "      <td>152XX</td>\n",
       "      <td>NaN</td>\n",
       "      <td>Consent provided</td>\n",
       "      <td>Web</td>\n",
       "      <td>2015-04-22</td>\n",
       "      <td>Closed with monetary relief</td>\n",
       "      <td>Yes</td>\n",
       "      <td>No</td>\n",
       "      <td>1337613</td>\n",
       "    </tr>\n",
       "    <tr>\n",
       "      <th>3</th>\n",
       "      <td>2013-04-29</td>\n",
       "      <td>Mortgage</td>\n",
       "      <td>Conventional fixed mortgage</td>\n",
       "      <td>Application, originator, mortgage broker</td>\n",
       "      <td>NaN</td>\n",
       "      <td>NaN</td>\n",
       "      <td>NaN</td>\n",
       "      <td>JPMORGAN CHASE &amp; CO.</td>\n",
       "      <td>VA</td>\n",
       "      <td>22406</td>\n",
       "      <td>Servicemember</td>\n",
       "      <td>NaN</td>\n",
       "      <td>Phone</td>\n",
       "      <td>2013-04-30</td>\n",
       "      <td>Closed with explanation</td>\n",
       "      <td>Yes</td>\n",
       "      <td>Yes</td>\n",
       "      <td>393900</td>\n",
       "    </tr>\n",
       "    <tr>\n",
       "      <th>4</th>\n",
       "      <td>2013-05-29</td>\n",
       "      <td>Mortgage</td>\n",
       "      <td>Other mortgage</td>\n",
       "      <td>Loan modification,collection,foreclosure</td>\n",
       "      <td>NaN</td>\n",
       "      <td>NaN</td>\n",
       "      <td>NaN</td>\n",
       "      <td>BANK OF AMERICA, NATIONAL ASSOCIATION</td>\n",
       "      <td>GA</td>\n",
       "      <td>30044</td>\n",
       "      <td>NaN</td>\n",
       "      <td>NaN</td>\n",
       "      <td>Referral</td>\n",
       "      <td>2013-05-31</td>\n",
       "      <td>Closed with explanation</td>\n",
       "      <td>Yes</td>\n",
       "      <td>No</td>\n",
       "      <td>418647</td>\n",
       "    </tr>\n",
       "    <tr>\n",
       "      <th>...</th>\n",
       "      <td>...</td>\n",
       "      <td>...</td>\n",
       "      <td>...</td>\n",
       "      <td>...</td>\n",
       "      <td>...</td>\n",
       "      <td>...</td>\n",
       "      <td>...</td>\n",
       "      <td>...</td>\n",
       "      <td>...</td>\n",
       "      <td>...</td>\n",
       "      <td>...</td>\n",
       "      <td>...</td>\n",
       "      <td>...</td>\n",
       "      <td>...</td>\n",
       "      <td>...</td>\n",
       "      <td>...</td>\n",
       "      <td>...</td>\n",
       "      <td>...</td>\n",
       "    </tr>\n",
       "    <tr>\n",
       "      <th>207255</th>\n",
       "      <td>2015-05-24</td>\n",
       "      <td>Debt collection</td>\n",
       "      <td>Credit card</td>\n",
       "      <td>Taking/threatening an illegal action</td>\n",
       "      <td>Sued w/o proper notification of suit</td>\n",
       "      <td>NaN</td>\n",
       "      <td>NaN</td>\n",
       "      <td>JPMORGAN CHASE &amp; CO.</td>\n",
       "      <td>FL</td>\n",
       "      <td>33133</td>\n",
       "      <td>NaN</td>\n",
       "      <td>Consent not provided</td>\n",
       "      <td>Web</td>\n",
       "      <td>2015-05-24</td>\n",
       "      <td>Closed with explanation</td>\n",
       "      <td>Yes</td>\n",
       "      <td>No</td>\n",
       "      <td>1390395</td>\n",
       "    </tr>\n",
       "    <tr>\n",
       "      <th>207256</th>\n",
       "      <td>2012-01-10</td>\n",
       "      <td>Mortgage</td>\n",
       "      <td>Conventional fixed mortgage</td>\n",
       "      <td>Loan modification,collection,foreclosure</td>\n",
       "      <td>NaN</td>\n",
       "      <td>NaN</td>\n",
       "      <td>NaN</td>\n",
       "      <td>JPMORGAN CHASE &amp; CO.</td>\n",
       "      <td>NY</td>\n",
       "      <td>10312</td>\n",
       "      <td>NaN</td>\n",
       "      <td>NaN</td>\n",
       "      <td>Referral</td>\n",
       "      <td>2012-01-11</td>\n",
       "      <td>Closed without relief</td>\n",
       "      <td>Yes</td>\n",
       "      <td>Yes</td>\n",
       "      <td>12192</td>\n",
       "    </tr>\n",
       "    <tr>\n",
       "      <th>207257</th>\n",
       "      <td>2012-07-17</td>\n",
       "      <td>Student loan</td>\n",
       "      <td>Non-federal student loan</td>\n",
       "      <td>Repaying your loan</td>\n",
       "      <td>NaN</td>\n",
       "      <td>NaN</td>\n",
       "      <td>NaN</td>\n",
       "      <td>BANK OF AMERICA, NATIONAL ASSOCIATION</td>\n",
       "      <td>NH</td>\n",
       "      <td>032XX</td>\n",
       "      <td>NaN</td>\n",
       "      <td>NaN</td>\n",
       "      <td>Web</td>\n",
       "      <td>2012-07-18</td>\n",
       "      <td>Closed with explanation</td>\n",
       "      <td>Yes</td>\n",
       "      <td>No</td>\n",
       "      <td>118351</td>\n",
       "    </tr>\n",
       "    <tr>\n",
       "      <th>207258</th>\n",
       "      <td>2016-09-29</td>\n",
       "      <td>Bank account or service</td>\n",
       "      <td>Checking account</td>\n",
       "      <td>Account opening, closing, or management</td>\n",
       "      <td>NaN</td>\n",
       "      <td>Near the end of XXXX 2016 I opened a Citigold ...</td>\n",
       "      <td>Company has responded to the consumer and the ...</td>\n",
       "      <td>CITIBANK, N.A.</td>\n",
       "      <td>CA</td>\n",
       "      <td>900XX</td>\n",
       "      <td>NaN</td>\n",
       "      <td>Consent provided</td>\n",
       "      <td>Web</td>\n",
       "      <td>2016-09-29</td>\n",
       "      <td>Closed with non-monetary relief</td>\n",
       "      <td>Yes</td>\n",
       "      <td>No</td>\n",
       "      <td>2138969</td>\n",
       "    </tr>\n",
       "    <tr>\n",
       "      <th>207259</th>\n",
       "      <td>2015-04-29</td>\n",
       "      <td>Mortgage</td>\n",
       "      <td>Conventional fixed mortgage</td>\n",
       "      <td>Loan modification,collection,foreclosure</td>\n",
       "      <td>NaN</td>\n",
       "      <td>My father died in XX/XX/XXXX. Left me his only...</td>\n",
       "      <td>NaN</td>\n",
       "      <td>CITIBANK, N.A.</td>\n",
       "      <td>OK</td>\n",
       "      <td>740XX</td>\n",
       "      <td>NaN</td>\n",
       "      <td>Consent provided</td>\n",
       "      <td>Web</td>\n",
       "      <td>2015-04-29</td>\n",
       "      <td>Closed with explanation</td>\n",
       "      <td>Yes</td>\n",
       "      <td>No</td>\n",
       "      <td>1352738</td>\n",
       "    </tr>\n",
       "  </tbody>\n",
       "</table>\n",
       "<p>207260 rows × 18 columns</p>\n",
       "</div>"
      ],
      "text/plain": [
       "       Date received                  Product                   Sub-product  \\\n",
       "0         2016-10-26          Money transfers  International money transfer   \n",
       "1         2015-03-27  Bank account or service    Other bank product/service   \n",
       "2         2015-04-20  Bank account or service    Other bank product/service   \n",
       "3         2013-04-29                 Mortgage   Conventional fixed mortgage   \n",
       "4         2013-05-29                 Mortgage                Other mortgage   \n",
       "...              ...                      ...                           ...   \n",
       "207255    2015-05-24          Debt collection                   Credit card   \n",
       "207256    2012-01-10                 Mortgage   Conventional fixed mortgage   \n",
       "207257    2012-07-17             Student loan      Non-federal student loan   \n",
       "207258    2016-09-29  Bank account or service              Checking account   \n",
       "207259    2015-04-29                 Mortgage   Conventional fixed mortgage   \n",
       "\n",
       "                                           Issue  \\\n",
       "0                       Other transaction issues   \n",
       "1        Account opening, closing, or management   \n",
       "2       Making/receiving payments, sending money   \n",
       "3       Application, originator, mortgage broker   \n",
       "4       Loan modification,collection,foreclosure   \n",
       "...                                          ...   \n",
       "207255      Taking/threatening an illegal action   \n",
       "207256  Loan modification,collection,foreclosure   \n",
       "207257                        Repaying your loan   \n",
       "207258   Account opening, closing, or management   \n",
       "207259  Loan modification,collection,foreclosure   \n",
       "\n",
       "                                   Sub-issue  \\\n",
       "0                                        NaN   \n",
       "1                                        NaN   \n",
       "2                                        NaN   \n",
       "3                                        NaN   \n",
       "4                                        NaN   \n",
       "...                                      ...   \n",
       "207255  Sued w/o proper notification of suit   \n",
       "207256                                   NaN   \n",
       "207257                                   NaN   \n",
       "207258                                   NaN   \n",
       "207259                                   NaN   \n",
       "\n",
       "                             Consumer complaint narrative  \\\n",
       "0       To whom it concerns, I would like to file a fo...   \n",
       "1       My name is XXXX XXXX XXXX and huband name is X...   \n",
       "2       XXXX 2015 : I called to make a payment on XXXX...   \n",
       "3                                                     NaN   \n",
       "4                                                     NaN   \n",
       "...                                                   ...   \n",
       "207255                                                NaN   \n",
       "207256                                                NaN   \n",
       "207257                                                NaN   \n",
       "207258  Near the end of XXXX 2016 I opened a Citigold ...   \n",
       "207259  My father died in XX/XX/XXXX. Left me his only...   \n",
       "\n",
       "                                  Company public response  \\\n",
       "0       Company has responded to the consumer and the ...   \n",
       "1        Company chooses not to provide a public response   \n",
       "2        Company chooses not to provide a public response   \n",
       "3                                                     NaN   \n",
       "4                                                     NaN   \n",
       "...                                                   ...   \n",
       "207255                                                NaN   \n",
       "207256                                                NaN   \n",
       "207257                                                NaN   \n",
       "207258  Company has responded to the consumer and the ...   \n",
       "207259                                                NaN   \n",
       "\n",
       "                                      Company State ZIP code            Tags  \\\n",
       "0                              CITIBANK, N.A.   NaN      NaN             NaN   \n",
       "1                              CITIBANK, N.A.    PA    151XX  Older American   \n",
       "2                                U.S. BANCORP    PA    152XX             NaN   \n",
       "3                        JPMORGAN CHASE & CO.    VA    22406   Servicemember   \n",
       "4       BANK OF AMERICA, NATIONAL ASSOCIATION    GA    30044             NaN   \n",
       "...                                       ...   ...      ...             ...   \n",
       "207255                   JPMORGAN CHASE & CO.    FL    33133             NaN   \n",
       "207256                   JPMORGAN CHASE & CO.    NY    10312             NaN   \n",
       "207257  BANK OF AMERICA, NATIONAL ASSOCIATION    NH    032XX             NaN   \n",
       "207258                         CITIBANK, N.A.    CA    900XX             NaN   \n",
       "207259                         CITIBANK, N.A.    OK    740XX             NaN   \n",
       "\n",
       "       Consumer consent provided? Submitted via Date sent to company  \\\n",
       "0                Consent provided           Web           2016-10-29   \n",
       "1                Consent provided           Web           2015-03-27   \n",
       "2                Consent provided           Web           2015-04-22   \n",
       "3                             NaN         Phone           2013-04-30   \n",
       "4                             NaN      Referral           2013-05-31   \n",
       "...                           ...           ...                  ...   \n",
       "207255       Consent not provided           Web           2015-05-24   \n",
       "207256                        NaN      Referral           2012-01-11   \n",
       "207257                        NaN           Web           2012-07-18   \n",
       "207258           Consent provided           Web           2016-09-29   \n",
       "207259           Consent provided           Web           2015-04-29   \n",
       "\n",
       "           Company response to consumer Timely response? Consumer disputed?  \\\n",
       "0               Closed with explanation              Yes                 No   \n",
       "1               Closed with explanation              Yes                 No   \n",
       "2           Closed with monetary relief              Yes                 No   \n",
       "3               Closed with explanation              Yes                Yes   \n",
       "4               Closed with explanation              Yes                 No   \n",
       "...                                 ...              ...                ...   \n",
       "207255          Closed with explanation              Yes                 No   \n",
       "207256            Closed without relief              Yes                Yes   \n",
       "207257          Closed with explanation              Yes                 No   \n",
       "207258  Closed with non-monetary relief              Yes                 No   \n",
       "207259          Closed with explanation              Yes                 No   \n",
       "\n",
       "        Complaint ID  \n",
       "0            2180490  \n",
       "1            1305453  \n",
       "2            1337613  \n",
       "3             393900  \n",
       "4             418647  \n",
       "...              ...  \n",
       "207255       1390395  \n",
       "207256         12192  \n",
       "207257        118351  \n",
       "207258       2138969  \n",
       "207259       1352738  \n",
       "\n",
       "[207260 rows x 18 columns]"
      ]
     },
     "execution_count": 4,
     "metadata": {},
     "output_type": "execute_result"
    }
   ],
   "source": [
    "complaints"
   ]
  },
  {
   "cell_type": "code",
   "execution_count": 5,
   "id": "2c22a35e-c579-4505-ab8b-2c5b7d111827",
   "metadata": {},
   "outputs": [
    {
     "data": {
      "text/plain": [
       "(207260, 18)"
      ]
     },
     "execution_count": 5,
     "metadata": {},
     "output_type": "execute_result"
    }
   ],
   "source": [
    "# How many rows and columns do we have?\n",
    "\n",
    "complaints.shape"
   ]
  },
  {
   "cell_type": "code",
   "execution_count": 6,
   "id": "664467d1-0b54-47d9-8db5-2a1d29f91667",
   "metadata": {},
   "outputs": [
    {
     "data": {
      "text/plain": [
       "Index(['Date received', 'Product', 'Sub-product', 'Issue', 'Sub-issue',\n",
       "       'Consumer complaint narrative', 'Company public response', 'Company',\n",
       "       'State', 'ZIP code', 'Tags', 'Consumer consent provided?',\n",
       "       'Submitted via', 'Date sent to company', 'Company response to consumer',\n",
       "       'Timely response?', 'Consumer disputed?', 'Complaint ID'],\n",
       "      dtype='object')"
      ]
     },
     "execution_count": 6,
     "metadata": {},
     "output_type": "execute_result"
    }
   ],
   "source": [
    "# What are the column names?\n",
    "\n",
    "complaints.columns"
   ]
  },
  {
   "cell_type": "code",
   "execution_count": 7,
   "id": "11ebe153-0bb0-478d-b68f-96e469dbfc38",
   "metadata": {},
   "outputs": [
    {
     "data": {
      "text/plain": [
       "BANK OF AMERICA, NATIONAL ASSOCIATION    65440\n",
       "WELLS FARGO & COMPANY                    53111\n",
       "JPMORGAN CHASE & CO.                     42170\n",
       "CITIBANK, N.A.                           34341\n",
       "U.S. BANCORP                             12198\n",
       "Name: Company, dtype: int64"
      ]
     },
     "execution_count": 7,
     "metadata": {},
     "output_type": "execute_result"
    }
   ],
   "source": [
    "# Let us look at which banks have the most number of complaints\n",
    "\n",
    "complaints['Company'].value_counts().sort_values(ascending=False)"
   ]
  },
  {
   "cell_type": "code",
   "execution_count": 8,
   "id": "455061dd-c466-46e0-a451-2775dde199d9",
   "metadata": {},
   "outputs": [
    {
     "data": {
      "text/html": [
       "<div>\n",
       "<style scoped>\n",
       "    .dataframe tbody tr th:only-of-type {\n",
       "        vertical-align: middle;\n",
       "    }\n",
       "\n",
       "    .dataframe tbody tr th {\n",
       "        vertical-align: top;\n",
       "    }\n",
       "\n",
       "    .dataframe thead th {\n",
       "        text-align: right;\n",
       "    }\n",
       "</style>\n",
       "<table border=\"1\" class=\"dataframe\">\n",
       "  <thead>\n",
       "    <tr style=\"text-align: right;\">\n",
       "      <th></th>\n",
       "      <th>Date received</th>\n",
       "      <th>Product</th>\n",
       "      <th>Sub-product</th>\n",
       "      <th>Issue</th>\n",
       "      <th>Sub-issue</th>\n",
       "      <th>Consumer complaint narrative</th>\n",
       "      <th>Company public response</th>\n",
       "      <th>Company</th>\n",
       "      <th>State</th>\n",
       "      <th>ZIP code</th>\n",
       "      <th>Tags</th>\n",
       "      <th>Consumer consent provided?</th>\n",
       "      <th>Submitted via</th>\n",
       "      <th>Date sent to company</th>\n",
       "      <th>Company response to consumer</th>\n",
       "      <th>Timely response?</th>\n",
       "      <th>Consumer disputed?</th>\n",
       "      <th>Complaint ID</th>\n",
       "    </tr>\n",
       "  </thead>\n",
       "  <tbody>\n",
       "    <tr>\n",
       "      <th>0</th>\n",
       "      <td>2016-10-26</td>\n",
       "      <td>Money transfers</td>\n",
       "      <td>International money transfer</td>\n",
       "      <td>Other transaction issues</td>\n",
       "      <td>NaN</td>\n",
       "      <td>To whom it concerns, I would like to file a fo...</td>\n",
       "      <td>Company has responded to the consumer and the ...</td>\n",
       "      <td>CITIBANK, N.A.</td>\n",
       "      <td>NaN</td>\n",
       "      <td>NaN</td>\n",
       "      <td>NaN</td>\n",
       "      <td>Consent provided</td>\n",
       "      <td>Web</td>\n",
       "      <td>2016-10-29</td>\n",
       "      <td>Closed with explanation</td>\n",
       "      <td>Yes</td>\n",
       "      <td>No</td>\n",
       "      <td>2180490</td>\n",
       "    </tr>\n",
       "    <tr>\n",
       "      <th>1</th>\n",
       "      <td>2015-03-27</td>\n",
       "      <td>Bank account or service</td>\n",
       "      <td>Other bank product/service</td>\n",
       "      <td>Account opening, closing, or management</td>\n",
       "      <td>NaN</td>\n",
       "      <td>My name is XXXX XXXX XXXX and huband name is X...</td>\n",
       "      <td>Company chooses not to provide a public response</td>\n",
       "      <td>CITIBANK, N.A.</td>\n",
       "      <td>PA</td>\n",
       "      <td>151XX</td>\n",
       "      <td>Older American</td>\n",
       "      <td>Consent provided</td>\n",
       "      <td>Web</td>\n",
       "      <td>2015-03-27</td>\n",
       "      <td>Closed with explanation</td>\n",
       "      <td>Yes</td>\n",
       "      <td>No</td>\n",
       "      <td>1305453</td>\n",
       "    </tr>\n",
       "    <tr>\n",
       "      <th>2</th>\n",
       "      <td>2015-04-20</td>\n",
       "      <td>Bank account or service</td>\n",
       "      <td>Other bank product/service</td>\n",
       "      <td>Making/receiving payments, sending money</td>\n",
       "      <td>NaN</td>\n",
       "      <td>XXXX 2015 : I called to make a payment on XXXX...</td>\n",
       "      <td>Company chooses not to provide a public response</td>\n",
       "      <td>U.S. BANCORP</td>\n",
       "      <td>PA</td>\n",
       "      <td>152XX</td>\n",
       "      <td>NaN</td>\n",
       "      <td>Consent provided</td>\n",
       "      <td>Web</td>\n",
       "      <td>2015-04-22</td>\n",
       "      <td>Closed with monetary relief</td>\n",
       "      <td>Yes</td>\n",
       "      <td>No</td>\n",
       "      <td>1337613</td>\n",
       "    </tr>\n",
       "    <tr>\n",
       "      <th>3</th>\n",
       "      <td>2013-04-29</td>\n",
       "      <td>Mortgage</td>\n",
       "      <td>Conventional fixed mortgage</td>\n",
       "      <td>Application, originator, mortgage broker</td>\n",
       "      <td>NaN</td>\n",
       "      <td>NaN</td>\n",
       "      <td>NaN</td>\n",
       "      <td>JPMORGAN CHASE &amp; CO.</td>\n",
       "      <td>VA</td>\n",
       "      <td>22406</td>\n",
       "      <td>Servicemember</td>\n",
       "      <td>NaN</td>\n",
       "      <td>Phone</td>\n",
       "      <td>2013-04-30</td>\n",
       "      <td>Closed with explanation</td>\n",
       "      <td>Yes</td>\n",
       "      <td>Yes</td>\n",
       "      <td>393900</td>\n",
       "    </tr>\n",
       "    <tr>\n",
       "      <th>4</th>\n",
       "      <td>2013-05-29</td>\n",
       "      <td>Mortgage</td>\n",
       "      <td>Other mortgage</td>\n",
       "      <td>Loan modification,collection,foreclosure</td>\n",
       "      <td>NaN</td>\n",
       "      <td>NaN</td>\n",
       "      <td>NaN</td>\n",
       "      <td>BANK OF AMERICA, NATIONAL ASSOCIATION</td>\n",
       "      <td>GA</td>\n",
       "      <td>30044</td>\n",
       "      <td>NaN</td>\n",
       "      <td>NaN</td>\n",
       "      <td>Referral</td>\n",
       "      <td>2013-05-31</td>\n",
       "      <td>Closed with explanation</td>\n",
       "      <td>Yes</td>\n",
       "      <td>No</td>\n",
       "      <td>418647</td>\n",
       "    </tr>\n",
       "  </tbody>\n",
       "</table>\n",
       "</div>"
      ],
      "text/plain": [
       "  Date received                  Product                   Sub-product  \\\n",
       "0    2016-10-26          Money transfers  International money transfer   \n",
       "1    2015-03-27  Bank account or service    Other bank product/service   \n",
       "2    2015-04-20  Bank account or service    Other bank product/service   \n",
       "3    2013-04-29                 Mortgage   Conventional fixed mortgage   \n",
       "4    2013-05-29                 Mortgage                Other mortgage   \n",
       "\n",
       "                                      Issue Sub-issue  \\\n",
       "0                  Other transaction issues       NaN   \n",
       "1   Account opening, closing, or management       NaN   \n",
       "2  Making/receiving payments, sending money       NaN   \n",
       "3  Application, originator, mortgage broker       NaN   \n",
       "4  Loan modification,collection,foreclosure       NaN   \n",
       "\n",
       "                        Consumer complaint narrative  \\\n",
       "0  To whom it concerns, I would like to file a fo...   \n",
       "1  My name is XXXX XXXX XXXX and huband name is X...   \n",
       "2  XXXX 2015 : I called to make a payment on XXXX...   \n",
       "3                                                NaN   \n",
       "4                                                NaN   \n",
       "\n",
       "                             Company public response  \\\n",
       "0  Company has responded to the consumer and the ...   \n",
       "1   Company chooses not to provide a public response   \n",
       "2   Company chooses not to provide a public response   \n",
       "3                                                NaN   \n",
       "4                                                NaN   \n",
       "\n",
       "                                 Company State ZIP code            Tags  \\\n",
       "0                         CITIBANK, N.A.   NaN      NaN             NaN   \n",
       "1                         CITIBANK, N.A.    PA    151XX  Older American   \n",
       "2                           U.S. BANCORP    PA    152XX             NaN   \n",
       "3                   JPMORGAN CHASE & CO.    VA    22406   Servicemember   \n",
       "4  BANK OF AMERICA, NATIONAL ASSOCIATION    GA    30044             NaN   \n",
       "\n",
       "  Consumer consent provided? Submitted via Date sent to company  \\\n",
       "0           Consent provided           Web           2016-10-29   \n",
       "1           Consent provided           Web           2015-03-27   \n",
       "2           Consent provided           Web           2015-04-22   \n",
       "3                        NaN         Phone           2013-04-30   \n",
       "4                        NaN      Referral           2013-05-31   \n",
       "\n",
       "  Company response to consumer Timely response? Consumer disputed?  \\\n",
       "0      Closed with explanation              Yes                 No   \n",
       "1      Closed with explanation              Yes                 No   \n",
       "2  Closed with monetary relief              Yes                 No   \n",
       "3      Closed with explanation              Yes                Yes   \n",
       "4      Closed with explanation              Yes                 No   \n",
       "\n",
       "   Complaint ID  \n",
       "0       2180490  \n",
       "1       1305453  \n",
       "2       1337613  \n",
       "3        393900  \n",
       "4        418647  "
      ]
     },
     "execution_count": 8,
     "metadata": {},
     "output_type": "execute_result"
    }
   ],
   "source": [
    "# Let us get a feel for the data\n",
    "\n",
    "complaints.head()"
   ]
  },
  {
   "cell_type": "code",
   "execution_count": 9,
   "id": "a4dee08b",
   "metadata": {},
   "outputs": [
    {
     "data": {
      "text/plain": [
       "array(['Closed with explanation', 'Closed with monetary relief',\n",
       "       'Closed with non-monetary relief', 'Closed without relief',\n",
       "       'Closed', 'Closed with relief', 'Untimely response'], dtype=object)"
      ]
     },
     "execution_count": 9,
     "metadata": {},
     "output_type": "execute_result"
    }
   ],
   "source": [
    "complaints['Company response to consumer'].unique()"
   ]
  },
  {
   "cell_type": "code",
   "execution_count": 10,
   "id": "2f714ae4",
   "metadata": {},
   "outputs": [
    {
     "data": {
      "image/png": "[encoded data removed]",
      "text/plain": [
       "<Figure size 640x480 with 1 Axes>"
      ]
     },
     "metadata": {},
     "output_type": "display_data"
    }
   ],
   "source": [
    "import matplotlib.pyplot as plt\n",
    "\n",
    "# Generate a Pie  chart of the value counts of the 'Company' column\n",
    "complaints['Company'].value_counts().plot(kind='pie', colors=['Red','orange','Yellow','blue','green'],autopct='%2.0f%%')\n",
    "\n",
    "# Set the title and axis labels\n",
    "plt.title('Number of Complaints by Company')\n",
    "\n",
    "\n",
    "\n",
    "\n",
    "# Show the chart\n",
    "plt.show()"
   ]
  },
  {
   "cell_type": "code",
   "execution_count": 11,
   "id": "7e0b7694-c347-433b-82fd-7341d9b70e61",
   "metadata": {},
   "outputs": [
    {
     "data": {
      "text/plain": [
       "207260"
      ]
     },
     "execution_count": 11,
     "metadata": {},
     "output_type": "execute_result"
    }
   ],
   "source": [
    "# Let us see how many total disputes are there\n",
    "\n",
    "complaints['Consumer disputed?'].value_counts().sum()"
   ]
  },
  {
   "cell_type": "code",
   "execution_count": 12,
   "id": "1f99e664",
   "metadata": {},
   "outputs": [
    {
     "data": {
      "image/png": "[encoded data removed]",
      "text/plain": [
       "<Figure size 640x480 with 1 Axes>"
      ]
     },
     "metadata": {},
     "output_type": "display_data"
    }
   ],
   "source": [
    "import matplotlib.pyplot as plt\n",
    "\n",
    "# Generate a bar chart of the value counts of the 'Consumer disputed?' column\n",
    "fig=complaints['Consumer disputed?'].value_counts().plot(kind='barh',stacked=True,legend=False,color=['violet','Red'])\n",
    "fig.bar_label(fig.containers[0], label_type='center')\n",
    "\n",
    "\n",
    "# Set the title\n",
    "plt.title('Consumer Disputed Status')\n",
    "\n",
    "# Show the chart\n",
    "plt.show()"
   ]
  },
  {
   "cell_type": "code",
   "execution_count": 13,
   "id": "498f232c",
   "metadata": {},
   "outputs": [
    {
     "data": {
      "text/plain": [
       "No     0.783349\n",
       "Yes    0.216651\n",
       "Name: Consumer disputed?, dtype: float64"
      ]
     },
     "execution_count": 13,
     "metadata": {},
     "output_type": "execute_result"
    }
   ],
   "source": [
    "# In terms of a percentage\n",
    "\n",
    "complaints['Consumer disputed?'].value_counts(normalize=True)"
   ]
  },
  {
   "cell_type": "code",
   "execution_count": 14,
   "id": "9b0d4d1c",
   "metadata": {},
   "outputs": [
    {
     "data": {
      "text/plain": [
       "Text(0.5, 1.0, 'Method of Submission and Disputes')"
      ]
     },
     "execution_count": 14,
     "metadata": {},
     "output_type": "execute_result"
    },
    {
     "data": {
      "image/png": "[encoded data removed]",
      "text/plain": [
       "<Figure size 640x480 with 1 Axes>"
      ]
     },
     "metadata": {},
     "output_type": "display_data"
    }
   ],
   "source": [
    "# Count of the Method of the complaint submitted \n",
    "ax = sns.countplot(x='Submitted via', data=complaints, hue='Consumer disputed?')\n",
    "#plt.title('Cut vs color');\n",
    "plt.xticks(rotation=45)\n",
    "ax.set_title('Method of Submission and Disputes')"
   ]
  },
  {
   "cell_type": "code",
   "execution_count": 15,
   "id": "4a941cce",
   "metadata": {},
   "outputs": [
    {
     "data": {
      "image/png": "[encoded data removed]",
      "text/plain": [
       "<Figure size 640x480 with 1 Axes>"
      ]
     },
     "metadata": {},
     "output_type": "display_data"
    }
   ],
   "source": [
    "#Comparision based on whether the response was timely or not\n",
    "\n",
    "\n",
    "import matplotlib.pyplot as plt\n",
    "\n",
    "# Generate a bar chart of the value counts of the 'Consumer disputed?' column\n",
    "fig=complaints['Timely response?'].value_counts().plot(kind='bar',stacked=True,legend=False,color=['Green','Red'])\n",
    "\n",
    "\n",
    "fig.bar_label(fig.containers[0], label_type='edge')\n",
    "\n",
    "\n",
    "# Set the title\n",
    "plt.title('Was the Response on Time')\n",
    "\n",
    "# Show the chart\n",
    "plt.show()"
   ]
  },
  {
   "cell_type": "code",
   "execution_count": 16,
   "id": "faf681f2",
   "metadata": {},
   "outputs": [
    {
     "name": "stdout",
     "output_type": "stream",
     "text": [
      "{\n",
      "   \"Date received\": \"2016-10-26\",\n",
      "   \"Product\": \"Money transfers\",\n",
      "   \"Sub-product\": \"International money transfer\",\n",
      "   \"Issue\": \"Other transaction issues\",\n",
      "   \"Sub-issue\": \"\",\n",
      "   \"Consumer complaint narrative\": \"To whom it concerns, I would like to file a formal complaint against Citi Prepaid Services, regarding an outbound manual money transfer made on XX/XX/2016. \\n\\nThe transfer was never delivered to my partners XXXX account with XXXX, and also was n't delivered to the intermediary bank, XXXX XXXX. \\n\\nWe have been told by Citi Prepaid that the transfer left our account and should have been received on XX/XX/2016. Over a month ago Citi Prepaid informed us it was being elevated to their own personal investigations department and that we would hear from them regarding the status of our investigation. \\n\\nDuring this time frame we have heard nothing aside from that it is being investigated. We have been given zero updates with no regard for any questions we have risen concerning the status of this ongoing investigation. \\n\\nThis is highly concerning as now we are worried that the money is lost or stolen and we have no support from Citi Prepaid Services in tracking the missing transfer. Their costumer services supervisor, XXXX, Informed us they can not give us a tracking number or any information, which seems unbelievable and suspicious. \\n\\nThe effects of this situation go beyond just our missing money. My partner and I are damaging our credit ratings by the day, and due to a total lack of confidence in Citi Prepaid 's transfer system we are afraid to move more money into our personal accounts. \\n\\nI request that you respond to this compliant urgently. \\n\\nYours Sincerely,\",\n",
      "   \"Company public response\": \"Company has responded to the consumer and the CFPB and chooses not to provide a public response\",\n",
      "   \"Company\": \"CITIBANK, N.A.\",\n",
      "   \"State\": \"\",\n",
      "   \"ZIP code\": \"\",\n",
      "   \"Tags\": \"\",\n",
      "   \"Consumer consent provided?\": \"Consent provided\",\n",
      "   \"Submitted via\": \"Web\",\n",
      "   \"Date sent to company\": \"2016-10-29\",\n",
      "   \"Company response to consumer\": \"Closed with explanation\",\n",
      "   \"Timely response?\": \"Yes\",\n",
      "   \"Consumer disputed?\": \"No\",\n",
      "   \"Complaint ID\": \"2180490\"\n",
      "}\n"
     ]
    },
    {
     "data": {
      "image/png": "[encoded data removed]",
      "text/plain": [
       "<Figure size 1000x600 with 1 Axes>"
      ]
     },
     "metadata": {},
     "output_type": "display_data"
    }
   ],
   "source": [
    "#Which Bank amongst has failed to resolve its complaints \n",
    "\n",
    "\n",
    "\n",
    "import matplotlib.pyplot as plt\n",
    "\n",
    "import csv\n",
    "import json\n",
    "\n",
    "csv_file = '/Users/sriramsuresh/Downloads/complaints_25Nov21.csv'\n",
    "\n",
    "with open(csv_file, mode='r') as file:\n",
    "    reader = csv.DictReader(file)\n",
    "    list_of_dicts = [row for row in reader]\n",
    "\n",
    "print(json.dumps(list_of_dicts[0], indent=3))\n",
    "\n",
    "from collections import defaultdict\n",
    "\n",
    "company_count = defaultdict(int)\n",
    "\n",
    "for entry in list_of_dicts:\n",
    "    if entry['Timely response?'] == 'No':\n",
    "        company_count[entry['Company']] += 1\n",
    "# Data to plot\n",
    "labels = list(company_count.keys())\n",
    "sizes = list(company_count.values())\n",
    "\n",
    "total_count = sum(sizes)\n",
    "percentages = [(count / total_count) * 100 for count in sizes]\n",
    "\n",
    "# Plot\n",
    "fig, ax = plt.subplots(figsize=(10, 6))  # Adjust the figure size if needed\n",
    "bars = ax.bar(labels, sizes)\n",
    "\n",
    "# Add labels and title\n",
    "ax.set_ylabel('No Timely Responses')\n",
    "ax.set_title('No Timely Responses by Company')\n",
    "plt.xticks(rotation=90)  # Rotate x-axis labels if needed\n",
    "\n",
    "# Annotate bars with percentages\n",
    "for i, bar in enumerate(bars):\n",
    "    height = bar.get_height()\n",
    "    ax.annotate(\n",
    "        f\"{percentages[i]:.1f}%\",\n",
    "        xy=(bar.get_x() + bar.get_width() / 2, height),\n",
    "        xytext=(0, 3),  # 3 points vertical offset\n",
    "        textcoords=\"offset points\",\n",
    "        ha=\"center\",\n",
    "        va=\"bottom\",\n",
    "    )\n",
    "\n",
    "# Display the bar plot\n",
    "plt.show()"
   ]
  },
  {
   "cell_type": "code",
   "execution_count": 17,
   "id": "5f8d7901-de18-4686-b0cf-e24a185a0d22",
   "metadata": {},
   "outputs": [
    {
     "data": {
      "text/plain": [
       "Yes    0.977531\n",
       "No     0.022469\n",
       "Name: Timely response?, dtype: float64"
      ]
     },
     "execution_count": 17,
     "metadata": {},
     "output_type": "execute_result"
    }
   ],
   "source": [
    "#How many complaints were not adressed on time\n",
    "\n",
    "complaints['Timely response?'].value_counts(normalize=True)"
   ]
  },
  {
   "cell_type": "code",
   "execution_count": null,
   "id": "0a73881e",
   "metadata": {},
   "outputs": [],
   "source": []
  },
  {
   "cell_type": "code",
   "execution_count": null,
   "id": "650229d8",
   "metadata": {},
   "outputs": [],
   "source": []
  },
  {
   "cell_type": "code",
   "execution_count": 18,
   "id": "21410531-df85-4698-8f70-2cae7ce5f7ca",
   "metadata": {},
   "outputs": [
    {
     "data": {
      "text/plain": [
       "0"
      ]
     },
     "execution_count": 18,
     "metadata": {},
     "output_type": "execute_result"
    }
   ],
   "source": [
    "# Check for NaNs in the 'Consumer Disputed' column\n",
    "\n",
    "complaints['Consumer disputed?'].isna().sum()"
   ]
  },
  {
   "cell_type": "code",
   "execution_count": 19,
   "id": "00f8f2f3-167d-4b5d-880b-89bd9e5e57b3",
   "metadata": {},
   "outputs": [],
   "source": [
    "# Next, for cleanliness we change the column type for 'Consumer Disputed' from string to category\n",
    "# We don't have to do this, but can't hurt just in case an algorithm we are trying needs this.\n",
    "\n",
    "complaints['Consumer disputed?'] = complaints['Consumer disputed?'].astype('category')"
   ]
  },
  {
   "cell_type": "code",
   "execution_count": 20,
   "id": "2282aa78-9399-406f-8ab7-619a4dccc43d",
   "metadata": {},
   "outputs": [],
   "source": [
    "X = complaints[[ 'Product', 'Sub-product', 'Issue', 'Sub-issue',\n",
    "        'Company public response', 'Company',\n",
    "       'State',  'Tags',\n",
    "       'Submitted via',  'Company response to consumer',\n",
    "       'Timely response?']]"
   ]
  },
  {
   "cell_type": "code",
   "execution_count": 21,
   "id": "10049602-a763-4045-b3ed-3603654d8d2e",
   "metadata": {},
   "outputs": [
    {
     "name": "stdout",
     "output_type": "stream",
     "text": [
      "207260\n",
      "581\n"
     ]
    }
   ],
   "source": [
    "# Let us check if we have any missing values in our reduced dataset X\n",
    "\n",
    "print(len(X)) # Number of rows before dropna()\n",
    "print(len(X.dropna())) # Number of rows after dropna() "
   ]
  },
  {
   "cell_type": "code",
   "execution_count": null,
   "id": "5717b326",
   "metadata": {},
   "outputs": [],
   "source": []
  },
  {
   "cell_type": "code",
   "execution_count": 22,
   "id": "24b43b64-343e-4e7b-a180-d88184f3cf8f",
   "metadata": {},
   "outputs": [
    {
     "data": {
      "text/plain": [
       "Product                              0\n",
       "Sub-product                      43015\n",
       "Issue                                0\n",
       "Sub-issue                       196913\n",
       "Company public response         148802\n",
       "Company                              0\n",
       "State                             2194\n",
       "Tags                            178995\n",
       "Submitted via                        0\n",
       "Company response to consumer         0\n",
       "Timely response?                     0\n",
       "dtype: int64"
      ]
     },
     "execution_count": 22,
     "metadata": {},
     "output_type": "execute_result"
    }
   ],
   "source": [
    "# Check how many values are missing in each column\n",
    "\n",
    "X.isna().sum()"
   ]
  },
  {
   "cell_type": "code",
   "execution_count": 23,
   "id": "130d6639-8505-47c2-ac28-cfed6e89f63d",
   "metadata": {},
   "outputs": [
    {
     "data": {
      "text/plain": [
       "array(['International money transfer', 'Other bank product/service',\n",
       "       'Conventional fixed mortgage', 'Other mortgage',\n",
       "       'Checking account', 'Vehicle lease', nan, 'Medical',\n",
       "       'Conventional adjustable mortgage (ARM)', 'Vehicle loan',\n",
       "       'Reverse mortgage', '(CD) Certificate of deposit', 'FHA mortgage',\n",
       "       'Government benefit payment card', 'VA mortgage',\n",
       "       'Savings account', 'Credit card',\n",
       "       'Home equity loan or line of credit', 'Second mortgage',\n",
       "       'Non-federal student loan', 'Installment loan',\n",
       "       'Other special purpose card', 'Mortgage', 'I do not know',\n",
       "       'Cashing a check without an account', 'Federal student loan',\n",
       "       'Auto', 'Other (i.e. phone, health club, etc.)',\n",
       "       'Personal line of credit', 'Domestic (US) money transfer',\n",
       "       'General purpose card', 'Payday loan',\n",
       "       'Traveler’s/Cashier’s checks', 'Refund anticipation check',\n",
       "       'Federal student loan servicing', 'Debt settlement',\n",
       "       'Gift or merchant card', 'Check cashing', 'ID prepaid card',\n",
       "       'Pawn loan', 'Credit repair', 'Foreign currency exchange',\n",
       "       'Title loan', 'Money order', 'Mobile wallet', 'Payroll card',\n",
       "       'Transit card', 'Electronic Benefit Transfer / EBT card'],\n",
       "      dtype=object)"
      ]
     },
     "execution_count": 23,
     "metadata": {},
     "output_type": "execute_result"
    }
   ],
   "source": [
    "X['Sub-product'].unique()"
   ]
  },
  {
   "cell_type": "code",
   "execution_count": 24,
   "id": "9ac95f39-95e0-4c50-ae75-624dd8970e74",
   "metadata": {},
   "outputs": [
    {
     "data": {
      "text/plain": [
       "array([nan, 'Debt is not mine', 'Not given enough info to verify debt',\n",
       "       'Frequent or repeated calls', 'Account status',\n",
       "       'Trouble with how payments are handled',\n",
       "       'Talked to a third party about my debt', 'Debt was paid',\n",
       "       'Attempted to/Collected exempt funds',\n",
       "       'Right to dispute notice not received',\n",
       "       'Debt was discharged in bankruptcy',\n",
       "       'Seized/Attempted to seize property', 'Account terms',\n",
       "       'Indicated committed crime not paying',\n",
       "       'Having problems with customer service',\n",
       "       'Threatened to sue on too old debt',\n",
       "       'Contacted employer after asked not to',\n",
       "       \"Can't decrease my monthly payments\",\n",
       "       'Attempted to collect wrong amount',\n",
       "       \"Don't agree with fees charged\",\n",
       "       'Qualify for a better loan than offered',\n",
       "       \"Indicated shouldn't respond to lawsuit\",\n",
       "       'Received bad information about my loan',\n",
       "       'Not disclosed as an attempt to collect',\n",
       "       \"Can't temporarily postpone payments\",\n",
       "       'Threatened to take legal action',\n",
       "       \"Can't get flexible payment options\",\n",
       "       'Called after sent written cease of comm',\n",
       "       'Contacted me after I asked not to',\n",
       "       'No notice of investigation status/result',\n",
       "       'Impersonated an attorney or official',\n",
       "       'Debt resulted from identity theft',\n",
       "       \"Sued where didn't live/sign for debt\", 'Information is not mine',\n",
       "       'Sued w/o proper notification of suit',\n",
       "       'Investigation took too long',\n",
       "       'Need information about my balance/terms',\n",
       "       'Reinserted previously deleted info', 'Problem with fraud alerts',\n",
       "       'Threatened arrest/jail if do not pay',\n",
       "       'Used obscene/profane/abusive language',\n",
       "       'Report improperly shared by CRC', \"Can't qualify for a loan\",\n",
       "       'Called outside of 8am-9pm', 'Personal information',\n",
       "       'Public record', 'Contacted me instead of my attorney',\n",
       "       'Keep getting calls about my loan',\n",
       "       'Problem with statement of dispute', 'Billing dispute',\n",
       "       'Receiving unwanted marketing/advertising',\n",
       "       'Inadequate help over the phone',\n",
       "       'Problem cancelling or closing account',\n",
       "       'Report shared with employer w/o consent',\n",
       "       'Account terms and changes',\n",
       "       'Problem getting my free annual report',\n",
       "       'Problem getting report or credit score',\n",
       "       'Received marketing offer after opted out'], dtype=object)"
      ]
     },
     "execution_count": 24,
     "metadata": {},
     "output_type": "execute_result"
    }
   ],
   "source": [
    "X['Sub-issue'].unique()"
   ]
  },
  {
   "cell_type": "code",
   "execution_count": 25,
   "id": "509d9724-d14c-4880-8ce9-c1ad917635bf",
   "metadata": {},
   "outputs": [
    {
     "data": {
      "text/plain": [
       "array([nan, 'PA', 'VA', 'GA', 'CA', 'MD', 'MN', 'WA', 'OK', 'TX', 'FL',\n",
       "       'NJ', 'MA', 'WI', 'AZ', 'NY', 'DE', 'IL', 'CT', 'AE', 'MI', 'TN',\n",
       "       'NH', 'MO', 'DC', 'OH', 'WV', 'NC', 'NM', 'AL', 'NV', 'UT', 'SC',\n",
       "       'AK', 'KY', 'HI', 'OR', 'KS', 'CO', 'IN', 'ID', 'NE', 'VT', 'LA',\n",
       "       'RI', 'WY', 'MS', 'ME', 'MT', 'IA', 'AR', 'PR', 'ND', 'SD', 'AS',\n",
       "       'AP', 'GU', 'VI', 'MH', 'FM', 'AA', 'MP', 'PW'], dtype=object)"
      ]
     },
     "execution_count": 25,
     "metadata": {},
     "output_type": "execute_result"
    }
   ],
   "source": [
    "X['State'].unique()"
   ]
  },
  {
   "cell_type": "code",
   "execution_count": 26,
   "id": "529d76d6-fc9f-4e10-a49a-255e0787a900",
   "metadata": {},
   "outputs": [
    {
     "data": {
      "text/plain": [
       "array(['Company has responded to the consumer and the CFPB and chooses not to provide a public response',\n",
       "       'Company chooses not to provide a public response', nan,\n",
       "       'Company believes it acted appropriately as authorized by contract or law',\n",
       "       'Company believes complaint represents an opportunity for improvement to better serve consumers',\n",
       "       'Company believes complaint caused principally by actions of third party outside the control or direction of the company',\n",
       "       'Company believes complaint is the result of an isolated error',\n",
       "       'Company believes complaint relates to a discontinued policy or procedure',\n",
       "       'Company believes the complaint is the result of a misunderstanding'],\n",
       "      dtype=object)"
      ]
     },
     "execution_count": 26,
     "metadata": {},
     "output_type": "execute_result"
    }
   ],
   "source": [
    "X['Company public response'].unique()"
   ]
  },
  {
   "cell_type": "code",
   "execution_count": 27,
   "id": "62efdbee-444d-4859-90a5-e076a27d94f1",
   "metadata": {},
   "outputs": [
    {
     "name": "stdout",
     "output_type": "stream",
     "text": [
      "[nan 'Older American' 'Servicemember' 'Older American, Servicemember']\n"
     ]
    },
    {
     "data": {
      "text/plain": [
       "Older American                   18554\n",
       "Servicemember                     7331\n",
       "Older American, Servicemember     2380\n",
       "Name: Tags, dtype: int64"
      ]
     },
     "execution_count": 27,
     "metadata": {},
     "output_type": "execute_result"
    }
   ],
   "source": [
    "print(X['Tags'].unique())\n",
    "X['Tags'].value_counts()"
   ]
  },
  {
   "cell_type": "code",
   "execution_count": 28,
   "id": "b3376f21-968f-40da-b4d0-7d96cd35297f",
   "metadata": {},
   "outputs": [
    {
     "data": {
      "text/plain": [
       "(207260, 11)"
      ]
     },
     "execution_count": 28,
     "metadata": {},
     "output_type": "execute_result"
    }
   ],
   "source": [
    "#lets fill the null values with the string empty to make sure it does not create issues in model building\n",
    "X = X.fillna('empty')\n",
    "X.dropna().shape"
   ]
  },
  {
   "cell_type": "code",
   "execution_count": 29,
   "id": "2281ee16-e956-42c7-b480-350ed230e2e8",
   "metadata": {},
   "outputs": [],
   "source": [
    "# Next, we convert all the X observations into numbers\n",
    "\n",
    "X = pd.get_dummies(X)\n"
   ]
  },
  {
   "cell_type": "code",
   "execution_count": 30,
   "id": "3d9c7424-a43c-4a18-a929-d6fca0039133",
   "metadata": {},
   "outputs": [
    {
     "name": "stdout",
     "output_type": "stream",
     "text": [
      "X has the shape  (207260, 306)\n"
     ]
    },
    {
     "data": {
      "text/html": [
       "<div>\n",
       "<style scoped>\n",
       "    .dataframe tbody tr th:only-of-type {\n",
       "        vertical-align: middle;\n",
       "    }\n",
       "\n",
       "    .dataframe tbody tr th {\n",
       "        vertical-align: top;\n",
       "    }\n",
       "\n",
       "    .dataframe thead th {\n",
       "        text-align: right;\n",
       "    }\n",
       "</style>\n",
       "<table border=\"1\" class=\"dataframe\">\n",
       "  <thead>\n",
       "    <tr style=\"text-align: right;\">\n",
       "      <th></th>\n",
       "      <th>Product_Bank account or service</th>\n",
       "      <th>Product_Consumer Loan</th>\n",
       "      <th>Product_Credit card</th>\n",
       "      <th>Product_Credit reporting</th>\n",
       "      <th>Product_Debt collection</th>\n",
       "      <th>Product_Money transfers</th>\n",
       "      <th>Product_Mortgage</th>\n",
       "      <th>Product_Other financial service</th>\n",
       "      <th>Product_Payday loan</th>\n",
       "      <th>Product_Prepaid card</th>\n",
       "      <th>...</th>\n",
       "      <th>Submitted via_Web</th>\n",
       "      <th>Company response to consumer_Closed</th>\n",
       "      <th>Company response to consumer_Closed with explanation</th>\n",
       "      <th>Company response to consumer_Closed with monetary relief</th>\n",
       "      <th>Company response to consumer_Closed with non-monetary relief</th>\n",
       "      <th>Company response to consumer_Closed with relief</th>\n",
       "      <th>Company response to consumer_Closed without relief</th>\n",
       "      <th>Company response to consumer_Untimely response</th>\n",
       "      <th>Timely response?_No</th>\n",
       "      <th>Timely response?_Yes</th>\n",
       "    </tr>\n",
       "  </thead>\n",
       "  <tbody>\n",
       "    <tr>\n",
       "      <th>0</th>\n",
       "      <td>0</td>\n",
       "      <td>0</td>\n",
       "      <td>0</td>\n",
       "      <td>0</td>\n",
       "      <td>0</td>\n",
       "      <td>1</td>\n",
       "      <td>0</td>\n",
       "      <td>0</td>\n",
       "      <td>0</td>\n",
       "      <td>0</td>\n",
       "      <td>...</td>\n",
       "      <td>1</td>\n",
       "      <td>0</td>\n",
       "      <td>1</td>\n",
       "      <td>0</td>\n",
       "      <td>0</td>\n",
       "      <td>0</td>\n",
       "      <td>0</td>\n",
       "      <td>0</td>\n",
       "      <td>0</td>\n",
       "      <td>1</td>\n",
       "    </tr>\n",
       "    <tr>\n",
       "      <th>1</th>\n",
       "      <td>1</td>\n",
       "      <td>0</td>\n",
       "      <td>0</td>\n",
       "      <td>0</td>\n",
       "      <td>0</td>\n",
       "      <td>0</td>\n",
       "      <td>0</td>\n",
       "      <td>0</td>\n",
       "      <td>0</td>\n",
       "      <td>0</td>\n",
       "      <td>...</td>\n",
       "      <td>1</td>\n",
       "      <td>0</td>\n",
       "      <td>1</td>\n",
       "      <td>0</td>\n",
       "      <td>0</td>\n",
       "      <td>0</td>\n",
       "      <td>0</td>\n",
       "      <td>0</td>\n",
       "      <td>0</td>\n",
       "      <td>1</td>\n",
       "    </tr>\n",
       "    <tr>\n",
       "      <th>2</th>\n",
       "      <td>1</td>\n",
       "      <td>0</td>\n",
       "      <td>0</td>\n",
       "      <td>0</td>\n",
       "      <td>0</td>\n",
       "      <td>0</td>\n",
       "      <td>0</td>\n",
       "      <td>0</td>\n",
       "      <td>0</td>\n",
       "      <td>0</td>\n",
       "      <td>...</td>\n",
       "      <td>1</td>\n",
       "      <td>0</td>\n",
       "      <td>0</td>\n",
       "      <td>1</td>\n",
       "      <td>0</td>\n",
       "      <td>0</td>\n",
       "      <td>0</td>\n",
       "      <td>0</td>\n",
       "      <td>0</td>\n",
       "      <td>1</td>\n",
       "    </tr>\n",
       "    <tr>\n",
       "      <th>3</th>\n",
       "      <td>0</td>\n",
       "      <td>0</td>\n",
       "      <td>0</td>\n",
       "      <td>0</td>\n",
       "      <td>0</td>\n",
       "      <td>0</td>\n",
       "      <td>1</td>\n",
       "      <td>0</td>\n",
       "      <td>0</td>\n",
       "      <td>0</td>\n",
       "      <td>...</td>\n",
       "      <td>0</td>\n",
       "      <td>0</td>\n",
       "      <td>1</td>\n",
       "      <td>0</td>\n",
       "      <td>0</td>\n",
       "      <td>0</td>\n",
       "      <td>0</td>\n",
       "      <td>0</td>\n",
       "      <td>0</td>\n",
       "      <td>1</td>\n",
       "    </tr>\n",
       "    <tr>\n",
       "      <th>4</th>\n",
       "      <td>0</td>\n",
       "      <td>0</td>\n",
       "      <td>0</td>\n",
       "      <td>0</td>\n",
       "      <td>0</td>\n",
       "      <td>0</td>\n",
       "      <td>1</td>\n",
       "      <td>0</td>\n",
       "      <td>0</td>\n",
       "      <td>0</td>\n",
       "      <td>...</td>\n",
       "      <td>0</td>\n",
       "      <td>0</td>\n",
       "      <td>1</td>\n",
       "      <td>0</td>\n",
       "      <td>0</td>\n",
       "      <td>0</td>\n",
       "      <td>0</td>\n",
       "      <td>0</td>\n",
       "      <td>0</td>\n",
       "      <td>1</td>\n",
       "    </tr>\n",
       "    <tr>\n",
       "      <th>...</th>\n",
       "      <td>...</td>\n",
       "      <td>...</td>\n",
       "      <td>...</td>\n",
       "      <td>...</td>\n",
       "      <td>...</td>\n",
       "      <td>...</td>\n",
       "      <td>...</td>\n",
       "      <td>...</td>\n",
       "      <td>...</td>\n",
       "      <td>...</td>\n",
       "      <td>...</td>\n",
       "      <td>...</td>\n",
       "      <td>...</td>\n",
       "      <td>...</td>\n",
       "      <td>...</td>\n",
       "      <td>...</td>\n",
       "      <td>...</td>\n",
       "      <td>...</td>\n",
       "      <td>...</td>\n",
       "      <td>...</td>\n",
       "      <td>...</td>\n",
       "    </tr>\n",
       "    <tr>\n",
       "      <th>207255</th>\n",
       "      <td>0</td>\n",
       "      <td>0</td>\n",
       "      <td>0</td>\n",
       "      <td>0</td>\n",
       "      <td>1</td>\n",
       "      <td>0</td>\n",
       "      <td>0</td>\n",
       "      <td>0</td>\n",
       "      <td>0</td>\n",
       "      <td>0</td>\n",
       "      <td>...</td>\n",
       "      <td>1</td>\n",
       "      <td>0</td>\n",
       "      <td>1</td>\n",
       "      <td>0</td>\n",
       "      <td>0</td>\n",
       "      <td>0</td>\n",
       "      <td>0</td>\n",
       "      <td>0</td>\n",
       "      <td>0</td>\n",
       "      <td>1</td>\n",
       "    </tr>\n",
       "    <tr>\n",
       "      <th>207256</th>\n",
       "      <td>0</td>\n",
       "      <td>0</td>\n",
       "      <td>0</td>\n",
       "      <td>0</td>\n",
       "      <td>0</td>\n",
       "      <td>0</td>\n",
       "      <td>1</td>\n",
       "      <td>0</td>\n",
       "      <td>0</td>\n",
       "      <td>0</td>\n",
       "      <td>...</td>\n",
       "      <td>0</td>\n",
       "      <td>0</td>\n",
       "      <td>0</td>\n",
       "      <td>0</td>\n",
       "      <td>0</td>\n",
       "      <td>0</td>\n",
       "      <td>1</td>\n",
       "      <td>0</td>\n",
       "      <td>0</td>\n",
       "      <td>1</td>\n",
       "    </tr>\n",
       "    <tr>\n",
       "      <th>207257</th>\n",
       "      <td>0</td>\n",
       "      <td>0</td>\n",
       "      <td>0</td>\n",
       "      <td>0</td>\n",
       "      <td>0</td>\n",
       "      <td>0</td>\n",
       "      <td>0</td>\n",
       "      <td>0</td>\n",
       "      <td>0</td>\n",
       "      <td>0</td>\n",
       "      <td>...</td>\n",
       "      <td>1</td>\n",
       "      <td>0</td>\n",
       "      <td>1</td>\n",
       "      <td>0</td>\n",
       "      <td>0</td>\n",
       "      <td>0</td>\n",
       "      <td>0</td>\n",
       "      <td>0</td>\n",
       "      <td>0</td>\n",
       "      <td>1</td>\n",
       "    </tr>\n",
       "    <tr>\n",
       "      <th>207258</th>\n",
       "      <td>1</td>\n",
       "      <td>0</td>\n",
       "      <td>0</td>\n",
       "      <td>0</td>\n",
       "      <td>0</td>\n",
       "      <td>0</td>\n",
       "      <td>0</td>\n",
       "      <td>0</td>\n",
       "      <td>0</td>\n",
       "      <td>0</td>\n",
       "      <td>...</td>\n",
       "      <td>1</td>\n",
       "      <td>0</td>\n",
       "      <td>0</td>\n",
       "      <td>0</td>\n",
       "      <td>1</td>\n",
       "      <td>0</td>\n",
       "      <td>0</td>\n",
       "      <td>0</td>\n",
       "      <td>0</td>\n",
       "      <td>1</td>\n",
       "    </tr>\n",
       "    <tr>\n",
       "      <th>207259</th>\n",
       "      <td>0</td>\n",
       "      <td>0</td>\n",
       "      <td>0</td>\n",
       "      <td>0</td>\n",
       "      <td>0</td>\n",
       "      <td>0</td>\n",
       "      <td>1</td>\n",
       "      <td>0</td>\n",
       "      <td>0</td>\n",
       "      <td>0</td>\n",
       "      <td>...</td>\n",
       "      <td>1</td>\n",
       "      <td>0</td>\n",
       "      <td>1</td>\n",
       "      <td>0</td>\n",
       "      <td>0</td>\n",
       "      <td>0</td>\n",
       "      <td>0</td>\n",
       "      <td>0</td>\n",
       "      <td>0</td>\n",
       "      <td>1</td>\n",
       "    </tr>\n",
       "  </tbody>\n",
       "</table>\n",
       "<p>207260 rows × 306 columns</p>\n",
       "</div>"
      ],
      "text/plain": [
       "        Product_Bank account or service  Product_Consumer Loan  \\\n",
       "0                                     0                      0   \n",
       "1                                     1                      0   \n",
       "2                                     1                      0   \n",
       "3                                     0                      0   \n",
       "4                                     0                      0   \n",
       "...                                 ...                    ...   \n",
       "207255                                0                      0   \n",
       "207256                                0                      0   \n",
       "207257                                0                      0   \n",
       "207258                                1                      0   \n",
       "207259                                0                      0   \n",
       "\n",
       "        Product_Credit card  Product_Credit reporting  \\\n",
       "0                         0                         0   \n",
       "1                         0                         0   \n",
       "2                         0                         0   \n",
       "3                         0                         0   \n",
       "4                         0                         0   \n",
       "...                     ...                       ...   \n",
       "207255                    0                         0   \n",
       "207256                    0                         0   \n",
       "207257                    0                         0   \n",
       "207258                    0                         0   \n",
       "207259                    0                         0   \n",
       "\n",
       "        Product_Debt collection  Product_Money transfers  Product_Mortgage  \\\n",
       "0                             0                        1                 0   \n",
       "1                             0                        0                 0   \n",
       "2                             0                        0                 0   \n",
       "3                             0                        0                 1   \n",
       "4                             0                        0                 1   \n",
       "...                         ...                      ...               ...   \n",
       "207255                        1                        0                 0   \n",
       "207256                        0                        0                 1   \n",
       "207257                        0                        0                 0   \n",
       "207258                        0                        0                 0   \n",
       "207259                        0                        0                 1   \n",
       "\n",
       "        Product_Other financial service  Product_Payday loan  \\\n",
       "0                                     0                    0   \n",
       "1                                     0                    0   \n",
       "2                                     0                    0   \n",
       "3                                     0                    0   \n",
       "4                                     0                    0   \n",
       "...                                 ...                  ...   \n",
       "207255                                0                    0   \n",
       "207256                                0                    0   \n",
       "207257                                0                    0   \n",
       "207258                                0                    0   \n",
       "207259                                0                    0   \n",
       "\n",
       "        Product_Prepaid card  ...  Submitted via_Web  \\\n",
       "0                          0  ...                  1   \n",
       "1                          0  ...                  1   \n",
       "2                          0  ...                  1   \n",
       "3                          0  ...                  0   \n",
       "4                          0  ...                  0   \n",
       "...                      ...  ...                ...   \n",
       "207255                     0  ...                  1   \n",
       "207256                     0  ...                  0   \n",
       "207257                     0  ...                  1   \n",
       "207258                     0  ...                  1   \n",
       "207259                     0  ...                  1   \n",
       "\n",
       "        Company response to consumer_Closed  \\\n",
       "0                                         0   \n",
       "1                                         0   \n",
       "2                                         0   \n",
       "3                                         0   \n",
       "4                                         0   \n",
       "...                                     ...   \n",
       "207255                                    0   \n",
       "207256                                    0   \n",
       "207257                                    0   \n",
       "207258                                    0   \n",
       "207259                                    0   \n",
       "\n",
       "        Company response to consumer_Closed with explanation  \\\n",
       "0                                                       1      \n",
       "1                                                       1      \n",
       "2                                                       0      \n",
       "3                                                       1      \n",
       "4                                                       1      \n",
       "...                                                   ...      \n",
       "207255                                                  1      \n",
       "207256                                                  0      \n",
       "207257                                                  1      \n",
       "207258                                                  0      \n",
       "207259                                                  1      \n",
       "\n",
       "        Company response to consumer_Closed with monetary relief  \\\n",
       "0                                                       0          \n",
       "1                                                       0          \n",
       "2                                                       1          \n",
       "3                                                       0          \n",
       "4                                                       0          \n",
       "...                                                   ...          \n",
       "207255                                                  0          \n",
       "207256                                                  0          \n",
       "207257                                                  0          \n",
       "207258                                                  0          \n",
       "207259                                                  0          \n",
       "\n",
       "        Company response to consumer_Closed with non-monetary relief  \\\n",
       "0                                                       0              \n",
       "1                                                       0              \n",
       "2                                                       0              \n",
       "3                                                       0              \n",
       "4                                                       0              \n",
       "...                                                   ...              \n",
       "207255                                                  0              \n",
       "207256                                                  0              \n",
       "207257                                                  0              \n",
       "207258                                                  1              \n",
       "207259                                                  0              \n",
       "\n",
       "        Company response to consumer_Closed with relief  \\\n",
       "0                                                     0   \n",
       "1                                                     0   \n",
       "2                                                     0   \n",
       "3                                                     0   \n",
       "4                                                     0   \n",
       "...                                                 ...   \n",
       "207255                                                0   \n",
       "207256                                                0   \n",
       "207257                                                0   \n",
       "207258                                                0   \n",
       "207259                                                0   \n",
       "\n",
       "        Company response to consumer_Closed without relief  \\\n",
       "0                                                       0    \n",
       "1                                                       0    \n",
       "2                                                       0    \n",
       "3                                                       0    \n",
       "4                                                       0    \n",
       "...                                                   ...    \n",
       "207255                                                  0    \n",
       "207256                                                  1    \n",
       "207257                                                  0    \n",
       "207258                                                  0    \n",
       "207259                                                  0    \n",
       "\n",
       "        Company response to consumer_Untimely response  Timely response?_No  \\\n",
       "0                                                    0                    0   \n",
       "1                                                    0                    0   \n",
       "2                                                    0                    0   \n",
       "3                                                    0                    0   \n",
       "4                                                    0                    0   \n",
       "...                                                ...                  ...   \n",
       "207255                                               0                    0   \n",
       "207256                                               0                    0   \n",
       "207257                                               0                    0   \n",
       "207258                                               0                    0   \n",
       "207259                                               0                    0   \n",
       "\n",
       "        Timely response?_Yes  \n",
       "0                          1  \n",
       "1                          1  \n",
       "2                          1  \n",
       "3                          1  \n",
       "4                          1  \n",
       "...                      ...  \n",
       "207255                     1  \n",
       "207256                     1  \n",
       "207257                     1  \n",
       "207258                     1  \n",
       "207259                     1  \n",
       "\n",
       "[207260 rows x 306 columns]"
      ]
     },
     "execution_count": 30,
     "metadata": {},
     "output_type": "execute_result"
    }
   ],
   "source": [
    "# Let us see what X looks like\n",
    "\n",
    "print('X has the shape ',X.shape)\n",
    "\n",
    "X"
   ]
  },
  {
   "cell_type": "code",
   "execution_count": 31,
   "id": "3ae2e79e-3822-49bb-af94-eeef7708e923",
   "metadata": {},
   "outputs": [],
   "source": [
    "y = complaints['Consumer disputed?']"
   ]
  },
  {
   "cell_type": "code",
   "execution_count": 32,
   "id": "2035250f-c8af-4a21-9dfb-3fe0c38d5d85",
   "metadata": {},
   "outputs": [
    {
     "name": "stdout",
     "output_type": "stream",
     "text": [
      "['No' 'Yes']\n",
      "['No' 'Yes']\n",
      "\n",
      "Label mapping is: {0: 'No', 1: 'Yes'}\n"
     ]
    }
   ],
   "source": [
    "from sklearn import preprocessing\n",
    "le = preprocessing.LabelEncoder()\n",
    "y = le.fit_transform(complaints['Consumer disputed?'])\n",
    "print(le.classes_)\n",
    "print(le.inverse_transform(list(set(y))))\n",
    "labels = dict(zip(list(set(y)), le.inverse_transform(list(set(y)))))\n",
    "print(\"\\nLabel mapping is:\", labels)"
   ]
  },
  {
   "cell_type": "code",
   "execution_count": 33,
   "id": "20dfee5b-9c53-4989-a34b-df593b84de08",
   "metadata": {},
   "outputs": [
    {
     "data": {
      "text/plain": [
       "array([0, 0, 0, ..., 0, 0, 0])"
      ]
     },
     "execution_count": 33,
     "metadata": {},
     "output_type": "execute_result"
    }
   ],
   "source": [
    "# Let us now look at what y looks like\n",
    "y"
   ]
  },
  {
   "cell_type": "code",
   "execution_count": 34,
   "id": "8c180881-738b-486c-b465-668af012aed5",
   "metadata": {},
   "outputs": [
    {
     "name": "stdout",
     "output_type": "stream",
     "text": [
      "0    162357\n",
      "1     44903\n",
      "dtype: int64 \n",
      "\n",
      "0    0.783349\n",
      "1    0.216651\n",
      "dtype: float64\n"
     ]
    }
   ],
   "source": [
    "# Let us do a value_counts() to check how many of each category.  But we have to convert to a Pandas dataframe first.\n",
    "print(pd.DataFrame(y).value_counts(), '\\n')\n",
    "print(pd.DataFrame(y).value_counts(normalize=True))"
   ]
  },
  {
   "cell_type": "code",
   "execution_count": 35,
   "id": "774d56d0-54bb-453a-ae89-85b4370f3efd",
   "metadata": {},
   "outputs": [],
   "source": [
    "from sklearn.model_selection import train_test_split\n",
    "X_train, X_test, y_train, y_test = train_test_split(X, y, test_size=0.2)"
   ]
  },
  {
   "cell_type": "code",
   "execution_count": 36,
   "id": "444a467e-a175-4a3c-add9-8931988af754",
   "metadata": {},
   "outputs": [
    {
     "name": "stdout",
     "output_type": "stream",
     "text": [
      "(165808, 306)\n",
      "(165808,)\n",
      "(41452, 306)\n",
      "(41452,)\n"
     ]
    }
   ],
   "source": [
    "# We check the shape of our X and y \n",
    "\n",
    "print(X_train.shape)\n",
    "print(y_train.shape)\n",
    "print(X_test.shape)\n",
    "print(y_test.shape)"
   ]
  },
  {
   "cell_type": "code",
   "execution_count": 37,
   "id": "67dc20c1-3cb5-4501-98c1-7167bb7664ce",
   "metadata": {},
   "outputs": [],
   "source": [
    "# Below is the code for oversampling with SMOTE.  It is time consuming to run, and did not provide me better results.  So I chose not to use this.  But you should do your own analysis and decide.\n",
    "\n",
    "# %%time\n",
    "# from imblearn.over_sampling import SMOTE \n",
    "# smote = SMOTE()\n",
    "# X_train, y_train = smote.fit_resample(X_train, y_train)"
   ]
  },
  {
   "cell_type": "code",
   "execution_count": 38,
   "id": "16f6bf2d",
   "metadata": {},
   "outputs": [],
   "source": [
    "from imblearn.under_sampling import RandomUnderSampler\n",
    "undersampler = RandomUnderSampler()\n",
    "X_train, y_train = undersampler.fit_resample(X, y)"
   ]
  },
  {
   "cell_type": "code",
   "execution_count": 39,
   "id": "c75eee19",
   "metadata": {},
   "outputs": [
    {
     "data": {
      "text/plain": [
       "0.5"
      ]
     },
     "execution_count": 39,
     "metadata": {},
     "output_type": "execute_result"
    }
   ],
   "source": [
    "# Let us check if the dataset is balanced\n",
    "# just checking that the '1' category is exactly 50% of the training set\n",
    "\n",
    "y_train.sum()/len(y_train) "
   ]
  },
  {
   "cell_type": "code",
   "execution_count": 40,
   "id": "6e590bdf",
   "metadata": {},
   "outputs": [
    {
     "data": {
      "text/plain": [
       "(89806, 306)"
      ]
     },
     "execution_count": 40,
     "metadata": {},
     "output_type": "execute_result"
    }
   ],
   "source": [
    "X_train.shape"
   ]
  },
  {
   "cell_type": "code",
   "execution_count": 41,
   "id": "4e962f9b",
   "metadata": {},
   "outputs": [
    {
     "data": {
      "text/plain": [
       "0    44903\n",
       "1    44903\n",
       "dtype: int64"
      ]
     },
     "execution_count": 41,
     "metadata": {},
     "output_type": "execute_result"
    }
   ],
   "source": [
    "# Let us look at what y_train looks like, and the value_counts()\n",
    "pd.DataFrame(y_train).value_counts()"
   ]
  },
  {
   "cell_type": "code",
   "execution_count": 42,
   "id": "bf22e17a",
   "metadata": {},
   "outputs": [
    {
     "name": "stdout",
     "output_type": "stream",
     "text": [
      "(207260, 306)\n",
      "(89806, 306)\n",
      "(41452, 306)\n"
     ]
    }
   ],
   "source": [
    "print(X.shape)\n",
    "print(X_train.shape)\n",
    "print(X_test.shape)"
   ]
  },
  {
   "cell_type": "code",
   "execution_count": 43,
   "id": "ff096696",
   "metadata": {},
   "outputs": [],
   "source": [
    "from sklearn.ensemble import RandomForestClassifier\n",
    "from sklearn.metrics import accuracy_score\n",
    "from sklearn.model_selection import train_test_split"
   ]
  },
  {
   "cell_type": "code",
   "execution_count": 44,
   "id": "fbda5f74",
   "metadata": {},
   "outputs": [],
   "source": [
    "model = RandomForestClassifier(n_estimators=100, random_state=42)"
   ]
  },
  {
   "cell_type": "code",
   "execution_count": 45,
   "id": "af324ec0",
   "metadata": {},
   "outputs": [
    {
     "data": {
      "text/html": [
       "<style>#sk-container-id-1 {color: black;background-color: white;}#sk-container-id-1 pre{padding: 0;}#sk-container-id-1 div.sk-toggleable {background-color: white;}#sk-container-id-1 label.sk-toggleable__label {cursor: pointer;display: block;width: 100%;margin-bottom: 0;padding: 0.3em;box-sizing: border-box;text-align: center;}#sk-container-id-1 label.sk-toggleable__label-arrow:before {content: \"▸\";float: left;margin-right: 0.25em;color: #696969;}#sk-container-id-1 label.sk-toggleable__label-arrow:hover:before {color: black;}#sk-container-id-1 div.sk-estimator:hover label.sk-toggleable__label-arrow:before {color: black;}#sk-container-id-1 div.sk-toggleable__content {max-height: 0;max-width: 0;overflow: hidden;text-align: left;background-color: #f0f8ff;}#sk-container-id-1 div.sk-toggleable__content pre {margin: 0.2em;color: black;border-radius: 0.25em;background-color: #f0f8ff;}#sk-container-id-1 input.sk-toggleable__control:checked~div.sk-toggleable__content {max-height: 200px;max-width: 100%;overflow: auto;}#sk-container-id-1 input.sk-toggleable__control:checked~label.sk-toggleable__label-arrow:before {content: \"▾\";}#sk-container-id-1 div.sk-estimator input.sk-toggleable__control:checked~label.sk-toggleable__label {background-color: #d4ebff;}#sk-container-id-1 div.sk-label input.sk-toggleable__control:checked~label.sk-toggleable__label {background-color: #d4ebff;}#sk-container-id-1 input.sk-hidden--visually {border: 0;clip: rect(1px 1px 1px 1px);clip: rect(1px, 1px, 1px, 1px);height: 1px;margin: -1px;overflow: hidden;padding: 0;position: absolute;width: 1px;}#sk-container-id-1 div.sk-estimator {font-family: monospace;background-color: #f0f8ff;border: 1px dotted black;border-radius: 0.25em;box-sizing: border-box;margin-bottom: 0.5em;}#sk-container-id-1 div.sk-estimator:hover {background-color: #d4ebff;}#sk-container-id-1 div.sk-parallel-item::after {content: \"\";width: 100%;border-bottom: 1px solid gray;flex-grow: 1;}#sk-container-id-1 div.sk-label:hover label.sk-toggleable__label {background-color: #d4ebff;}#sk-container-id-1 div.sk-serial::before {content: \"\";position: absolute;border-left: 1px solid gray;box-sizing: border-box;top: 0;bottom: 0;left: 50%;z-index: 0;}#sk-container-id-1 div.sk-serial {display: flex;flex-direction: column;align-items: center;background-color: white;padding-right: 0.2em;padding-left: 0.2em;position: relative;}#sk-container-id-1 div.sk-item {position: relative;z-index: 1;}#sk-container-id-1 div.sk-parallel {display: flex;align-items: stretch;justify-content: center;background-color: white;position: relative;}#sk-container-id-1 div.sk-item::before, #sk-container-id-1 div.sk-parallel-item::before {content: \"\";position: absolute;border-left: 1px solid gray;box-sizing: border-box;top: 0;bottom: 0;left: 50%;z-index: -1;}#sk-container-id-1 div.sk-parallel-item {display: flex;flex-direction: column;z-index: 1;position: relative;background-color: white;}#sk-container-id-1 div.sk-parallel-item:first-child::after {align-self: flex-end;width: 50%;}#sk-container-id-1 div.sk-parallel-item:last-child::after {align-self: flex-start;width: 50%;}#sk-container-id-1 div.sk-parallel-item:only-child::after {width: 0;}#sk-container-id-1 div.sk-dashed-wrapped {border: 1px dashed gray;margin: 0 0.4em 0.5em 0.4em;box-sizing: border-box;padding-bottom: 0.4em;background-color: white;}#sk-container-id-1 div.sk-label label {font-family: monospace;font-weight: bold;display: inline-block;line-height: 1.2em;}#sk-container-id-1 div.sk-label-container {text-align: center;}#sk-container-id-1 div.sk-container {/* jupyter's `normalize.less` sets `[hidden] { display: none; }` but bootstrap.min.css set `[hidden] { display: none !important; }` so we also need the `!important` here to be able to override the default hidden behavior on the sphinx rendered scikit-learn.org. See: https://github.com/scikit-learn/scikit-learn/issues/21755 */display: inline-block !important;position: relative;}#sk-container-id-1 div.sk-text-repr-fallback {display: none;}</style><div id=\"sk-container-id-1\" class=\"sk-top-container\"><div class=\"sk-text-repr-fallback\"><pre>RandomForestClassifier(random_state=42)</pre><b>In a Jupyter environment, please rerun this cell to show the HTML representation or trust the notebook. <br />On GitHub, the HTML representation is unable to render, please try loading this page with nbviewer.org.</b></div><div class=\"sk-container\" hidden><div class=\"sk-item\"><div class=\"sk-estimator sk-toggleable\"><input class=\"sk-toggleable__control sk-hidden--visually\" id=\"sk-estimator-id-1\" type=\"checkbox\" checked><label for=\"sk-estimator-id-1\" class=\"sk-toggleable__label sk-toggleable__label-arrow\">RandomForestClassifier</label><div class=\"sk-toggleable__content\"><pre>RandomForestClassifier(random_state=42)</pre></div></div></div></div></div>"
      ],
      "text/plain": [
       "RandomForestClassifier(random_state=42)"
      ]
     },
     "execution_count": 45,
     "metadata": {},
     "output_type": "execute_result"
    }
   ],
   "source": [
    "model.fit(X_train, y_train)"
   ]
  },
  {
   "cell_type": "code",
   "execution_count": 46,
   "id": "6456b737",
   "metadata": {},
   "outputs": [],
   "source": [
    "pre= model.predict(X_test)"
   ]
  },
  {
   "cell_type": "code",
   "execution_count": 47,
   "id": "d9b47f2a",
   "metadata": {},
   "outputs": [
    {
     "name": "stdout",
     "output_type": "stream",
     "text": [
      "              precision    recall  f1-score   support\n",
      "\n",
      "           0       0.93      0.62      0.75     32460\n",
      "           1       0.38      0.82      0.52      8992\n",
      "\n",
      "    accuracy                           0.67     41452\n",
      "   macro avg       0.65      0.72      0.63     41452\n",
      "weighted avg       0.81      0.67      0.70     41452\n",
      "\n"
     ]
    },
    {
     "data": {
      "image/png": "[encoded data removed]",
      "text/plain": [
       "<Figure size 640x480 with 2 Axes>"
      ]
     },
     "metadata": {},
     "output_type": "display_data"
    }
   ],
   "source": [
    "\n",
    "\n",
    "print(classification_report(y_true = y_test, y_pred = pre))\n",
    "\n",
    "cm = confusion_matrix(y_test, pre)\n",
    "ConfusionMatrixDisplay(confusion_matrix=cm).plot();"
   ]
  },
  {
   "cell_type": "code",
   "execution_count": 48,
   "id": "7677abbc",
   "metadata": {},
   "outputs": [
    {
     "name": "stdout",
     "output_type": "stream",
     "text": [
      "Test accuracy =  0.6667229566727781\n",
      "              precision    recall  f1-score   support\n",
      "\n",
      "           0       0.93      0.62      0.75     32460\n",
      "           1       0.38      0.82      0.52      8992\n",
      "\n",
      "    accuracy                           0.67     41452\n",
      "   macro avg       0.65      0.72      0.63     41452\n",
      "weighted avg       0.81      0.67      0.70     41452\n",
      "\n"
     ]
    }
   ],
   "source": [
    "# accuracy score of the model\n",
    "print('Test accuracy = ', accuracy_score(y_test, pre))\n",
    "print(classification_report(y_true=y_test, y_pred=pre))"
   ]
  },
  {
   "cell_type": "code",
   "execution_count": 49,
   "id": "2bfc9c2a",
   "metadata": {},
   "outputs": [
    {
     "name": "stdout",
     "output_type": "stream",
     "text": [
      "Label mapping is: {0: 'No', 1: 'Yes'}\n"
     ]
    }
   ],
   "source": [
    "print(\"Label mapping is:\", labels)"
   ]
  },
  {
   "cell_type": "code",
   "execution_count": 50,
   "id": "d34ec0ba",
   "metadata": {},
   "outputs": [],
   "source": [
    "\n",
    "True_NoDispute_Cost = 100 * cm[0, 0]\n",
    "\n",
    "\n",
    "False_Dispute_Cost = 190 * cm[0,1]\n",
    "\n",
    "\n",
    "False_NoDispute_Cost = 600 * cm[1,0]\n",
    "\n",
    "\n",
    "True_Dispute_Cost = 190 * cm[1,1]"
   ]
  },
  {
   "cell_type": "code",
   "execution_count": 51,
   "id": "ad6488c5",
   "metadata": {},
   "outputs": [
    {
     "data": {
      "text/plain": [
       "6710470"
      ]
     },
     "execution_count": 51,
     "metadata": {},
     "output_type": "execute_result"
    }
   ],
   "source": [
    "Total_cost = True_NoDispute_Cost + False_Dispute_Cost + False_NoDispute_Cost + True_Dispute_Cost\n",
    "Total_cost"
   ]
  },
  {
   "cell_type": "code",
   "execution_count": 52,
   "id": "f498862b",
   "metadata": {},
   "outputs": [],
   "source": [
    "model = RandomForestClassifier(n_estimators=100, random_state=42)"
   ]
  },
  {
   "cell_type": "code",
   "execution_count": 53,
   "id": "c668f8eb",
   "metadata": {},
   "outputs": [
    {
     "data": {
      "text/html": [
       "<style>#sk-container-id-2 {color: black;background-color: white;}#sk-container-id-2 pre{padding: 0;}#sk-container-id-2 div.sk-toggleable {background-color: white;}#sk-container-id-2 label.sk-toggleable__label {cursor: pointer;display: block;width: 100%;margin-bottom: 0;padding: 0.3em;box-sizing: border-box;text-align: center;}#sk-container-id-2 label.sk-toggleable__label-arrow:before {content: \"▸\";float: left;margin-right: 0.25em;color: #696969;}#sk-container-id-2 label.sk-toggleable__label-arrow:hover:before {color: black;}#sk-container-id-2 div.sk-estimator:hover label.sk-toggleable__label-arrow:before {color: black;}#sk-container-id-2 div.sk-toggleable__content {max-height: 0;max-width: 0;overflow: hidden;text-align: left;background-color: #f0f8ff;}#sk-container-id-2 div.sk-toggleable__content pre {margin: 0.2em;color: black;border-radius: 0.25em;background-color: #f0f8ff;}#sk-container-id-2 input.sk-toggleable__control:checked~div.sk-toggleable__content {max-height: 200px;max-width: 100%;overflow: auto;}#sk-container-id-2 input.sk-toggleable__control:checked~label.sk-toggleable__label-arrow:before {content: \"▾\";}#sk-container-id-2 div.sk-estimator input.sk-toggleable__control:checked~label.sk-toggleable__label {background-color: #d4ebff;}#sk-container-id-2 div.sk-label input.sk-toggleable__control:checked~label.sk-toggleable__label {background-color: #d4ebff;}#sk-container-id-2 input.sk-hidden--visually {border: 0;clip: rect(1px 1px 1px 1px);clip: rect(1px, 1px, 1px, 1px);height: 1px;margin: -1px;overflow: hidden;padding: 0;position: absolute;width: 1px;}#sk-container-id-2 div.sk-estimator {font-family: monospace;background-color: #f0f8ff;border: 1px dotted black;border-radius: 0.25em;box-sizing: border-box;margin-bottom: 0.5em;}#sk-container-id-2 div.sk-estimator:hover {background-color: #d4ebff;}#sk-container-id-2 div.sk-parallel-item::after {content: \"\";width: 100%;border-bottom: 1px solid gray;flex-grow: 1;}#sk-container-id-2 div.sk-label:hover label.sk-toggleable__label {background-color: #d4ebff;}#sk-container-id-2 div.sk-serial::before {content: \"\";position: absolute;border-left: 1px solid gray;box-sizing: border-box;top: 0;bottom: 0;left: 50%;z-index: 0;}#sk-container-id-2 div.sk-serial {display: flex;flex-direction: column;align-items: center;background-color: white;padding-right: 0.2em;padding-left: 0.2em;position: relative;}#sk-container-id-2 div.sk-item {position: relative;z-index: 1;}#sk-container-id-2 div.sk-parallel {display: flex;align-items: stretch;justify-content: center;background-color: white;position: relative;}#sk-container-id-2 div.sk-item::before, #sk-container-id-2 div.sk-parallel-item::before {content: \"\";position: absolute;border-left: 1px solid gray;box-sizing: border-box;top: 0;bottom: 0;left: 50%;z-index: -1;}#sk-container-id-2 div.sk-parallel-item {display: flex;flex-direction: column;z-index: 1;position: relative;background-color: white;}#sk-container-id-2 div.sk-parallel-item:first-child::after {align-self: flex-end;width: 50%;}#sk-container-id-2 div.sk-parallel-item:last-child::after {align-self: flex-start;width: 50%;}#sk-container-id-2 div.sk-parallel-item:only-child::after {width: 0;}#sk-container-id-2 div.sk-dashed-wrapped {border: 1px dashed gray;margin: 0 0.4em 0.5em 0.4em;box-sizing: border-box;padding-bottom: 0.4em;background-color: white;}#sk-container-id-2 div.sk-label label {font-family: monospace;font-weight: bold;display: inline-block;line-height: 1.2em;}#sk-container-id-2 div.sk-label-container {text-align: center;}#sk-container-id-2 div.sk-container {/* jupyter's `normalize.less` sets `[hidden] { display: none; }` but bootstrap.min.css set `[hidden] { display: none !important; }` so we also need the `!important` here to be able to override the default hidden behavior on the sphinx rendered scikit-learn.org. See: https://github.com/scikit-learn/scikit-learn/issues/21755 */display: inline-block !important;position: relative;}#sk-container-id-2 div.sk-text-repr-fallback {display: none;}</style><div id=\"sk-container-id-2\" class=\"sk-top-container\"><div class=\"sk-text-repr-fallback\"><pre>RandomForestClassifier(random_state=42)</pre><b>In a Jupyter environment, please rerun this cell to show the HTML representation or trust the notebook. <br />On GitHub, the HTML representation is unable to render, please try loading this page with nbviewer.org.</b></div><div class=\"sk-container\" hidden><div class=\"sk-item\"><div class=\"sk-estimator sk-toggleable\"><input class=\"sk-toggleable__control sk-hidden--visually\" id=\"sk-estimator-id-2\" type=\"checkbox\" checked><label for=\"sk-estimator-id-2\" class=\"sk-toggleable__label sk-toggleable__label-arrow\">RandomForestClassifier</label><div class=\"sk-toggleable__content\"><pre>RandomForestClassifier(random_state=42)</pre></div></div></div></div></div>"
      ],
      "text/plain": [
       "RandomForestClassifier(random_state=42)"
      ]
     },
     "execution_count": 53,
     "metadata": {},
     "output_type": "execute_result"
    }
   ],
   "source": [
    "model.fit(X_train, y_train)"
   ]
  },
  {
   "cell_type": "code",
   "execution_count": 54,
   "id": "cb3fc8c7",
   "metadata": {},
   "outputs": [],
   "source": [
    "threshold = 0.1"
   ]
  },
  {
   "cell_type": "code",
   "execution_count": 55,
   "id": "e6daa26b",
   "metadata": {},
   "outputs": [],
   "source": [
    "pre_prob = model.predict(X_test)"
   ]
  },
  {
   "cell_type": "code",
   "execution_count": 56,
   "id": "ad037606",
   "metadata": {},
   "outputs": [],
   "source": [
    "pre = (pre_prob > threshold).astype(int)"
   ]
  },
  {
   "cell_type": "code",
   "execution_count": 57,
   "id": "ed85f79c",
   "metadata": {},
   "outputs": [
    {
     "name": "stderr",
     "output_type": "stream",
     "text": [
      "100%|█████████████████████████████████████████| 100/100 [02:03<00:00,  1.24s/it]"
     ]
    },
    {
     "name": "stdout",
     "output_type": "stream",
     "text": [
      "CPU times: user 2min 2s, sys: 1.22 s, total: 2min 3s\n",
      "Wall time: 2min 3s\n"
     ]
    },
    {
     "name": "stderr",
     "output_type": "stream",
     "text": [
      "\n"
     ]
    },
    {
     "data": {
      "text/plain": [
       "<Axes: xlabel='threshold', ylabel='Total_cost'>"
      ]
     },
     "execution_count": 57,
     "metadata": {},
     "output_type": "execute_result"
    },
    {
     "data": {
      "image/png": "[encoded data removed]",
      "text/plain": [
       "<Figure size 640x480 with 1 Axes>"
      ]
     },
     "metadata": {},
     "output_type": "display_data"
    }
   ],
   "source": [
    "%%time\n",
    "# Set threshold for identifying class 1\n",
    "threshold = 0.0001\n",
    "appended_data = []\n",
    "\n",
    "for threshold in tqdm(np.arange(0,1,.01)):\n",
    "    # Create predictions.  Note that predictions give us probabilities, not classes!\n",
    "    pre_prob = model.predict_proba(X_test)\n",
    "\n",
    "    # We drop the probabilities for class 0, and keep just the second column\n",
    "    pre_prob = pre_prob[:,1]\n",
    "\n",
    "    # Convert probabilities to 1s and 0s based on threshold\n",
    "    pre = (pre_prob>threshold).astype(int)\n",
    "\n",
    "    # confusion matrix\n",
    "    cm = confusion_matrix(y_test, pre)\n",
    "    \n",
    "    # accuracy score of the model\n",
    "    accuracy = accuracy_score(y_test, pre)\n",
    "    precision = precision_score(y_test, pre,zero_division=0)\n",
    "    recall = recall_score(y_test, pre)\n",
    "    \n",
    "    # Cost when model predicts dispute and actually disputed\n",
    "    True_NoDispute_Cost = 100 * cm[0, 0]\n",
    "\n",
    "    # Cost when model predicts dispute and no actual dispute \n",
    "    False_Dispute_Cost = 190 * cm[0,1]\n",
    "\n",
    "    # Cost when model predicts NoDispute and actually disputed\n",
    "    False_NoDispute_Cost = 600 * cm[1,0]\n",
    "\n",
    "    # Cost when model predicts NoDispute correctly\n",
    "    True_Dispute_Cost = 190 * cm[1,1]\n",
    "    \n",
    "    Total_cost = True_NoDispute_Cost + False_Dispute_Cost + False_NoDispute_Cost + True_Dispute_Cost\n",
    "    Total_cost\n",
    "    \n",
    "    data = pd.DataFrame({'threshold':[threshold], 'accuracy': [accuracy], \n",
    "                         'precision':[precision], 'recall':[recall],\n",
    "                         'True_NoDispute_Cost':[True_NoDispute_Cost], \n",
    "                         'False_Dispute_Cost':[False_Dispute_Cost], \n",
    "                         'False_NoDispute_Cost':[False_NoDispute_Cost],\n",
    "                         'True_Dispute_Cost':[True_Dispute_Cost],\n",
    "                         'Total_cost':[Total_cost]})\n",
    "    appended_data.append(data)\n",
    "    \n",
    "    \n",
    "\n",
    "appended_data = pd.concat(appended_data)    \n",
    "\n",
    "appended_data.reset_index()\n",
    "\n",
    "# appended_data.to_excel('temp.xlsx')\n",
    "sns.scatterplot(data = appended_data, y = 'Total_cost', x = 'threshold')"
   ]
  },
  {
   "cell_type": "code",
   "execution_count": 58,
   "id": "1afa4df5",
   "metadata": {},
   "outputs": [
    {
     "name": "stdout",
     "output_type": "stream",
     "text": [
      "                                0\n",
      "threshold                   0.480\n",
      "accuracy                    0.640\n",
      "precision                   0.362\n",
      "recall                      0.862\n",
      "True_NoDispute_Cost   1878200.000\n",
      "False_Dispute_Cost    2598820.000\n",
      "False_NoDispute_Cost   744000.000\n",
      "True_Dispute_Cost     1472880.000\n",
      "Total_cost            6693900.000\n"
     ]
    }
   ],
   "source": [
    "print(round(appended_data[appended_data.Total_cost == appended_data.Total_cost.min()].transpose(),3))"
   ]
  },
  {
   "cell_type": "code",
   "execution_count": 59,
   "id": "330c6a2f",
   "metadata": {},
   "outputs": [
    {
     "data": {
      "text/plain": [
       "0.819940414276646"
      ]
     },
     "execution_count": 59,
     "metadata": {},
     "output_type": "execute_result"
    }
   ],
   "source": [
    "# AUC calculation\n",
    "from sklearn import metrics\n",
    "metrics.roc_auc_score(y_test, pre_prob)"
   ]
  },
  {
   "cell_type": "code",
   "execution_count": 60,
   "id": "8297c841",
   "metadata": {},
   "outputs": [
    {
     "data": {
      "image/png": "[encoded data removed]",
      "text/plain": [
       "<Figure size 900x800 with 1 Axes>"
      ]
     },
     "metadata": {},
     "output_type": "display_data"
    }
   ],
   "source": [
    "# Source for code below: https://stackoverflow.com/questions/25009284/how-to-plot-roc-curve-in-python\n",
    "fpr, tpr, thresholds = metrics.roc_curve(y_test, pre_prob)\n",
    "roc_auc = metrics.auc(fpr, tpr)\n",
    "plt.figure(figsize = (9,8))\n",
    "plt.title('Receiver Operating Characteristic')\n",
    "plt.plot(fpr, tpr, 'b', label = 'AUC = %0.2f' % roc_auc)\n",
    "plt.legend(loc = 'lower right')\n",
    "plt.plot([0, 1], [0, 1],'r--')\n",
    "plt.xlim([0, 1])\n",
    "plt.ylim([0, 1])\n",
    "plt.ylabel('True Positive Rate')\n",
    "plt.xlabel('False Positive Rate')\n",
    "plt.show()"
   ]
  },
  {
   "cell_type": "code",
   "execution_count": 61,
   "id": "8bd3f5c0",
   "metadata": {},
   "outputs": [
    {
     "data": {
      "text/html": [
       "<div>\n",
       "<style scoped>\n",
       "    .dataframe tbody tr th:only-of-type {\n",
       "        vertical-align: middle;\n",
       "    }\n",
       "\n",
       "    .dataframe tbody tr th {\n",
       "        vertical-align: top;\n",
       "    }\n",
       "\n",
       "    .dataframe thead th {\n",
       "        text-align: right;\n",
       "    }\n",
       "</style>\n",
       "<table border=\"1\" class=\"dataframe\">\n",
       "  <thead>\n",
       "    <tr style=\"text-align: right;\">\n",
       "      <th></th>\n",
       "      <th>TPR</th>\n",
       "      <th>FPR</th>\n",
       "      <th>Threshold</th>\n",
       "    </tr>\n",
       "  </thead>\n",
       "  <tbody>\n",
       "    <tr>\n",
       "      <th>0</th>\n",
       "      <td>1.000000</td>\n",
       "      <td>1.000000</td>\n",
       "      <td>0.000000</td>\n",
       "    </tr>\n",
       "    <tr>\n",
       "      <th>1</th>\n",
       "      <td>1.000000</td>\n",
       "      <td>0.992083</td>\n",
       "      <td>0.001394</td>\n",
       "    </tr>\n",
       "    <tr>\n",
       "      <th>2</th>\n",
       "      <td>1.000000</td>\n",
       "      <td>0.991959</td>\n",
       "      <td>0.001429</td>\n",
       "    </tr>\n",
       "    <tr>\n",
       "      <th>3</th>\n",
       "      <td>1.000000</td>\n",
       "      <td>0.991929</td>\n",
       "      <td>0.001667</td>\n",
       "    </tr>\n",
       "    <tr>\n",
       "      <th>4</th>\n",
       "      <td>1.000000</td>\n",
       "      <td>0.991836</td>\n",
       "      <td>0.001818</td>\n",
       "    </tr>\n",
       "    <tr>\n",
       "      <th>...</th>\n",
       "      <td>...</td>\n",
       "      <td>...</td>\n",
       "      <td>...</td>\n",
       "    </tr>\n",
       "    <tr>\n",
       "      <th>11601</th>\n",
       "      <td>0.013345</td>\n",
       "      <td>0.002095</td>\n",
       "      <td>0.998182</td>\n",
       "    </tr>\n",
       "    <tr>\n",
       "      <th>11602</th>\n",
       "      <td>0.013012</td>\n",
       "      <td>0.002095</td>\n",
       "      <td>0.998333</td>\n",
       "    </tr>\n",
       "    <tr>\n",
       "      <th>11603</th>\n",
       "      <td>0.012900</td>\n",
       "      <td>0.002064</td>\n",
       "      <td>0.998889</td>\n",
       "    </tr>\n",
       "    <tr>\n",
       "      <th>11604</th>\n",
       "      <td>0.012900</td>\n",
       "      <td>0.002033</td>\n",
       "      <td>1.000000</td>\n",
       "    </tr>\n",
       "    <tr>\n",
       "      <th>11605</th>\n",
       "      <td>0.000000</td>\n",
       "      <td>0.000000</td>\n",
       "      <td>2.000000</td>\n",
       "    </tr>\n",
       "  </tbody>\n",
       "</table>\n",
       "<p>11606 rows × 3 columns</p>\n",
       "</div>"
      ],
      "text/plain": [
       "            TPR       FPR  Threshold\n",
       "0      1.000000  1.000000   0.000000\n",
       "1      1.000000  0.992083   0.001394\n",
       "2      1.000000  0.991959   0.001429\n",
       "3      1.000000  0.991929   0.001667\n",
       "4      1.000000  0.991836   0.001818\n",
       "...         ...       ...        ...\n",
       "11601  0.013345  0.002095   0.998182\n",
       "11602  0.013012  0.002095   0.998333\n",
       "11603  0.012900  0.002064   0.998889\n",
       "11604  0.012900  0.002033   1.000000\n",
       "11605  0.000000  0.000000   2.000000\n",
       "\n",
       "[11606 rows x 3 columns]"
      ]
     },
     "execution_count": 61,
     "metadata": {},
     "output_type": "execute_result"
    }
   ],
   "source": [
    "pd.DataFrame({'TPR': tpr, 'FPR': fpr, 'Threshold': thresholds}).sort_values(by = ['Threshold']).reset_index(drop=True)"
   ]
  },
  {
   "cell_type": "code",
   "execution_count": null,
   "id": "2b9e642f",
   "metadata": {},
   "outputs": [],
   "source": []
  },
  {
   "cell_type": "code",
   "execution_count": null,
   "id": "91d18224",
   "metadata": {},
   "outputs": [],
   "source": []
  },
  {
   "cell_type": "code",
   "execution_count": null,
   "id": "3c7a4c04",
   "metadata": {},
   "outputs": [],
   "source": []
  },
  {
   "cell_type": "code",
   "execution_count": null,
   "id": "1387b27a",
   "metadata": {},
   "outputs": [],
   "source": []
  }
 ],
 "metadata": {
  "kernelspec": {
   "display_name": "Python 3 (ipykernel)",
   "language": "python",
   "name": "python3"
  },
  "language_info": {
   "codemirror_mode": {
    "name": "ipython",
    "version": 3
   },
   "file_extension": ".py",
   "mimetype": "text/x-python",
   "name": "python",
   "nbconvert_exporter": "python",
   "pygments_lexer": "ipython3",
   "version": "3.10.9"
  }
 },
 "nbformat": 4,
 "nbformat_minor": 5
}
